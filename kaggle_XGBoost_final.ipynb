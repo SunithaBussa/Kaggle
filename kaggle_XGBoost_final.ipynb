{
 "cells": [
  {
   "cell_type": "code",
   "execution_count": 80,
   "metadata": {},
   "outputs": [],
   "source": [
    "import boto3\n",
    "import pandas as pd\n",
    "import io\n",
    "from io import StringIO\n",
    "import sagemaker\n",
    "from sagemaker import get_execution_role"
   ]
  },
  {
   "cell_type": "code",
   "execution_count": 81,
   "metadata": {},
   "outputs": [],
   "source": [
    "#create sagemaker session and get execution role\n",
    "sagemaker_session = sagemaker.Session()\n",
    "role = get_execution_role()"
   ]
  },
  {
   "cell_type": "code",
   "execution_count": 82,
   "metadata": {},
   "outputs": [],
   "source": [
    "#get training data from csv which is saved in your bucket\n",
    "s3 = boto3.client('s3')\n",
    "ion_data_obj = s3.get_object(Bucket = 'sunithadatasets', Key = 'data/train_data_with_features.csv')\n",
    "ion_data = pd.read_csv(io.BytesIO(ion_data_obj['Body'].read()))"
   ]
  },
  {
   "cell_type": "code",
   "execution_count": 83,
   "metadata": {},
   "outputs": [],
   "source": [
    "#get test data with features from csv which is saved in your bucket\n",
    "test_data_obj = s3.get_object(Bucket = 'sunithadatasets',Key = 'data/test_data_with_features.csv')\n",
    "test_data = pd.read_csv(io.BytesIO(test_data_obj['Body'].read()))"
   ]
  },
  {
   "cell_type": "code",
   "execution_count": 84,
   "metadata": {},
   "outputs": [
    {
     "data": {
      "text/html": [
       "<div>\n",
       "<style scoped>\n",
       "    .dataframe tbody tr th:only-of-type {\n",
       "        vertical-align: middle;\n",
       "    }\n",
       "\n",
       "    .dataframe tbody tr th {\n",
       "        vertical-align: top;\n",
       "    }\n",
       "\n",
       "    .dataframe thead th {\n",
       "        text-align: right;\n",
       "    }\n",
       "</style>\n",
       "<table border=\"1\" class=\"dataframe\">\n",
       "  <thead>\n",
       "    <tr style=\"text-align: right;\">\n",
       "      <th></th>\n",
       "      <th>time</th>\n",
       "      <th>signal</th>\n",
       "      <th>open_channels</th>\n",
       "      <th>batch</th>\n",
       "      <th>simple_moving_avg_50</th>\n",
       "      <th>rolling_std_50</th>\n",
       "      <th>simple_moving_avg_50_batch</th>\n",
       "      <th>moving_std_50_batch</th>\n",
       "    </tr>\n",
       "  </thead>\n",
       "  <tbody>\n",
       "    <tr>\n",
       "      <th>0</th>\n",
       "      <td>0.0001</td>\n",
       "      <td>-2.7600</td>\n",
       "      <td>0</td>\n",
       "      <td>0</td>\n",
       "      <td>0.0</td>\n",
       "      <td>0.0</td>\n",
       "      <td>0.0</td>\n",
       "      <td>0.0</td>\n",
       "    </tr>\n",
       "    <tr>\n",
       "      <th>1</th>\n",
       "      <td>0.0002</td>\n",
       "      <td>-2.8557</td>\n",
       "      <td>0</td>\n",
       "      <td>0</td>\n",
       "      <td>0.0</td>\n",
       "      <td>0.0</td>\n",
       "      <td>0.0</td>\n",
       "      <td>0.0</td>\n",
       "    </tr>\n",
       "    <tr>\n",
       "      <th>2</th>\n",
       "      <td>0.0003</td>\n",
       "      <td>-2.4074</td>\n",
       "      <td>0</td>\n",
       "      <td>0</td>\n",
       "      <td>0.0</td>\n",
       "      <td>0.0</td>\n",
       "      <td>0.0</td>\n",
       "      <td>0.0</td>\n",
       "    </tr>\n",
       "    <tr>\n",
       "      <th>3</th>\n",
       "      <td>0.0004</td>\n",
       "      <td>-3.1404</td>\n",
       "      <td>0</td>\n",
       "      <td>0</td>\n",
       "      <td>0.0</td>\n",
       "      <td>0.0</td>\n",
       "      <td>0.0</td>\n",
       "      <td>0.0</td>\n",
       "    </tr>\n",
       "    <tr>\n",
       "      <th>4</th>\n",
       "      <td>0.0005</td>\n",
       "      <td>-3.1525</td>\n",
       "      <td>0</td>\n",
       "      <td>0</td>\n",
       "      <td>0.0</td>\n",
       "      <td>0.0</td>\n",
       "      <td>0.0</td>\n",
       "      <td>0.0</td>\n",
       "    </tr>\n",
       "  </tbody>\n",
       "</table>\n",
       "</div>"
      ],
      "text/plain": [
       "     time  signal  open_channels  batch  simple_moving_avg_50  rolling_std_50  \\\n",
       "0  0.0001 -2.7600              0      0                   0.0             0.0   \n",
       "1  0.0002 -2.8557              0      0                   0.0             0.0   \n",
       "2  0.0003 -2.4074              0      0                   0.0             0.0   \n",
       "3  0.0004 -3.1404              0      0                   0.0             0.0   \n",
       "4  0.0005 -3.1525              0      0                   0.0             0.0   \n",
       "\n",
       "   simple_moving_avg_50_batch  moving_std_50_batch  \n",
       "0                         0.0                  0.0  \n",
       "1                         0.0                  0.0  \n",
       "2                         0.0                  0.0  \n",
       "3                         0.0                  0.0  \n",
       "4                         0.0                  0.0  "
      ]
     },
     "execution_count": 84,
     "metadata": {},
     "output_type": "execute_result"
    }
   ],
   "source": [
    " ion_data.head()"
   ]
  },
  {
   "cell_type": "code",
   "execution_count": 85,
   "metadata": {},
   "outputs": [],
   "source": [
    "#used for predictions\n",
    "test_values=test_data[['signal','simple_moving_avg_50','rolling_std_50','simple_moving_avg_50_batch','moving_std_50_batch']]"
   ]
  },
  {
   "cell_type": "code",
   "execution_count": 86,
   "metadata": {},
   "outputs": [
    {
     "data": {
      "text/html": [
       "<div>\n",
       "<style scoped>\n",
       "    .dataframe tbody tr th:only-of-type {\n",
       "        vertical-align: middle;\n",
       "    }\n",
       "\n",
       "    .dataframe tbody tr th {\n",
       "        vertical-align: top;\n",
       "    }\n",
       "\n",
       "    .dataframe thead th {\n",
       "        text-align: right;\n",
       "    }\n",
       "</style>\n",
       "<table border=\"1\" class=\"dataframe\">\n",
       "  <thead>\n",
       "    <tr style=\"text-align: right;\">\n",
       "      <th></th>\n",
       "      <th>signal</th>\n",
       "      <th>simple_moving_avg_50</th>\n",
       "      <th>rolling_std_50</th>\n",
       "      <th>simple_moving_avg_50_batch</th>\n",
       "      <th>moving_std_50_batch</th>\n",
       "    </tr>\n",
       "  </thead>\n",
       "  <tbody>\n",
       "    <tr>\n",
       "      <th>0</th>\n",
       "      <td>-2.6498</td>\n",
       "      <td>0.0</td>\n",
       "      <td>0.0</td>\n",
       "      <td>0.0</td>\n",
       "      <td>0.0</td>\n",
       "    </tr>\n",
       "    <tr>\n",
       "      <th>1</th>\n",
       "      <td>-2.8494</td>\n",
       "      <td>0.0</td>\n",
       "      <td>0.0</td>\n",
       "      <td>0.0</td>\n",
       "      <td>0.0</td>\n",
       "    </tr>\n",
       "    <tr>\n",
       "      <th>2</th>\n",
       "      <td>-2.8600</td>\n",
       "      <td>0.0</td>\n",
       "      <td>0.0</td>\n",
       "      <td>0.0</td>\n",
       "      <td>0.0</td>\n",
       "    </tr>\n",
       "    <tr>\n",
       "      <th>3</th>\n",
       "      <td>-2.4350</td>\n",
       "      <td>0.0</td>\n",
       "      <td>0.0</td>\n",
       "      <td>0.0</td>\n",
       "      <td>0.0</td>\n",
       "    </tr>\n",
       "    <tr>\n",
       "      <th>4</th>\n",
       "      <td>-2.6155</td>\n",
       "      <td>0.0</td>\n",
       "      <td>0.0</td>\n",
       "      <td>0.0</td>\n",
       "      <td>0.0</td>\n",
       "    </tr>\n",
       "  </tbody>\n",
       "</table>\n",
       "</div>"
      ],
      "text/plain": [
       "   signal  simple_moving_avg_50  rolling_std_50  simple_moving_avg_50_batch  \\\n",
       "0 -2.6498                   0.0             0.0                         0.0   \n",
       "1 -2.8494                   0.0             0.0                         0.0   \n",
       "2 -2.8600                   0.0             0.0                         0.0   \n",
       "3 -2.4350                   0.0             0.0                         0.0   \n",
       "4 -2.6155                   0.0             0.0                         0.0   \n",
       "\n",
       "   moving_std_50_batch  \n",
       "0                  0.0  \n",
       "1                  0.0  \n",
       "2                  0.0  \n",
       "3                  0.0  \n",
       "4                  0.0  "
      ]
     },
     "execution_count": 86,
     "metadata": {},
     "output_type": "execute_result"
    }
   ],
   "source": [
    "test_values.head()"
   ]
  },
  {
   "cell_type": "code",
   "execution_count": 87,
   "metadata": {},
   "outputs": [],
   "source": [
    "#get only columns which you want to feed into your model\n",
    "X = ion_data[['open_channels','signal','simple_moving_avg_50','rolling_std_50','simple_moving_avg_50_batch','moving_std_50_batch']]\n"
   ]
  },
  {
   "cell_type": "code",
   "execution_count": 88,
   "metadata": {},
   "outputs": [
    {
     "ename": "MemoryError",
     "evalue": "",
     "output_type": "error",
     "traceback": [
      "\u001b[0;31m---------------------------------------------------------------------------\u001b[0m",
      "\u001b[0;31mMemoryError\u001b[0m                               Traceback (most recent call last)",
      "\u001b[0;32m<ipython-input-88-57d755805342>\u001b[0m in \u001b[0;36m<module>\u001b[0;34m()\u001b[0m\n\u001b[1;32m      4\u001b[0m \u001b[0mX\u001b[0m\u001b[0;34m.\u001b[0m\u001b[0mto_csv\u001b[0m\u001b[0;34m(\u001b[0m\u001b[0mcsv_buffer\u001b[0m\u001b[0;34m,\u001b[0m\u001b[0mindex\u001b[0m\u001b[0;34m=\u001b[0m\u001b[0;32mFalse\u001b[0m\u001b[0;34m)\u001b[0m\u001b[0;34m\u001b[0m\u001b[0m\n\u001b[1;32m      5\u001b[0m \u001b[0ms3_resource\u001b[0m \u001b[0;34m=\u001b[0m \u001b[0mboto3\u001b[0m\u001b[0;34m.\u001b[0m\u001b[0mresource\u001b[0m\u001b[0;34m(\u001b[0m\u001b[0;34m's3'\u001b[0m\u001b[0;34m)\u001b[0m\u001b[0;34m\u001b[0m\u001b[0m\n\u001b[0;32m----> 6\u001b[0;31m \u001b[0ms3_resource\u001b[0m\u001b[0;34m.\u001b[0m\u001b[0mObject\u001b[0m\u001b[0;34m(\u001b[0m\u001b[0mbucket\u001b[0m\u001b[0;34m,\u001b[0m\u001b[0;34m'data/X_train.csv'\u001b[0m\u001b[0;34m)\u001b[0m\u001b[0;34m.\u001b[0m\u001b[0mput\u001b[0m\u001b[0;34m(\u001b[0m\u001b[0mBody\u001b[0m\u001b[0;34m=\u001b[0m\u001b[0mcsv_buffer\u001b[0m\u001b[0;34m.\u001b[0m\u001b[0mgetvalue\u001b[0m\u001b[0;34m(\u001b[0m\u001b[0;34m)\u001b[0m\u001b[0;34m)\u001b[0m\u001b[0;34m\u001b[0m\u001b[0m\n\u001b[0m",
      "\u001b[0;31mMemoryError\u001b[0m: "
     ]
    }
   ],
   "source": [
    "# Save this X (training data into a file X_train)\n",
    "bucket ='sunithadatasets'\n",
    "csv_buffer = StringIO()\n",
    "X.to_csv(csv_buffer,index=False)\n",
    "s3_resource = boto3.resource('s3')\n",
    "s3_resource.Object(bucket,'data/X_train.csv').put(Body=csv_buffer.getvalue())"
   ]
  },
  {
   "cell_type": "code",
   "execution_count": null,
   "metadata": {},
   "outputs": [],
   "source": [
    "X.head()"
   ]
  },
  {
   "cell_type": "code",
   "execution_count": null,
   "metadata": {},
   "outputs": [],
   "source": [
    "#assign region,set client/service and bucket\n",
    "\n",
    "region = boto3.Session().region_name\n",
    "smclient = boto3.Session().client('sagemaker')\n",
    "\n",
    "bucket = sagemaker.Session().default_bucket()\n"
   ]
  },
  {
   "cell_type": "code",
   "execution_count": null,
   "metadata": {},
   "outputs": [],
   "source": [
    "from sagemaker.amazon.amazon_estimator import get_image_uri"
   ]
  },
  {
   "cell_type": "code",
   "execution_count": null,
   "metadata": {},
   "outputs": [],
   "source": [
    "container = get_image_uri(region,'xgboost',repo_version='0.90-1')"
   ]
  },
  {
   "cell_type": "code",
   "execution_count": null,
   "metadata": {},
   "outputs": [],
   "source": [
    "#instantiating an sagemaker container where we run our models. speicifying the details.\n",
    "xgb = sagemaker.estimator.Estimator(\n",
    "container,\n",
    "role,\n",
    "train_instance_count =1,\n",
    "#train_instance_type = 'ml.m4.xlarge',\n",
    "train_instance_type = 'ml.m5.4xlarge',\n",
    "output_path='s3://{}/{}/output'.format('sunithadatasets','data'),\n",
    "sagemaker_session = sagemaker_session)"
   ]
  },
  {
   "cell_type": "code",
   "execution_count": null,
   "metadata": {},
   "outputs": [],
   "source": [
    "xgb.set_hyperparameters(\n",
    "num_round = 100,\n",
    "#rate_drop = 0.3,\n",
    "alpha = 0.25,\n",
    "num_class = 11,\n",
    "objective = \"multi:softmax\" )\n",
    "objective_metric_name = 'validation:f1'"
   ]
  },
  {
   "cell_type": "code",
   "execution_count": 79,
   "metadata": {},
   "outputs": [
    {
     "ename": "NameError",
     "evalue": "name 'ContinuousParameter' is not defined",
     "output_type": "error",
     "traceback": [
      "\u001b[0;31m---------------------------------------------------------------------------\u001b[0m",
      "\u001b[0;31mNameError\u001b[0m                                 Traceback (most recent call last)",
      "\u001b[0;32m<ipython-input-79-2b5e788afd45>\u001b[0m in \u001b[0;36m<module>\u001b[0;34m()\u001b[0m\n\u001b[1;32m      1\u001b[0m hyperparameter_ranges = {\n\u001b[0;32m----> 2\u001b[0;31m     \u001b[0;34m'alpha'\u001b[0m\u001b[0;34m:\u001b[0m \u001b[0mContinuousParameter\u001b[0m\u001b[0;34m(\u001b[0m\u001b[0;36m0.01\u001b[0m\u001b[0;34m,\u001b[0m \u001b[0;36m10\u001b[0m\u001b[0;34m,\u001b[0m \u001b[0mscaling_type\u001b[0m\u001b[0;34m=\u001b[0m\u001b[0;34m\"Logarithmic\"\u001b[0m\u001b[0;34m)\u001b[0m\u001b[0;34m,\u001b[0m\u001b[0;34m\u001b[0m\u001b[0m\n\u001b[0m\u001b[1;32m      3\u001b[0m     \u001b[0;34m'lambda'\u001b[0m\u001b[0;34m:\u001b[0m \u001b[0mContinuousParameter\u001b[0m\u001b[0;34m(\u001b[0m\u001b[0;36m0.01\u001b[0m\u001b[0;34m,\u001b[0m \u001b[0;36m10\u001b[0m\u001b[0;34m,\u001b[0m \u001b[0mscaling_type\u001b[0m\u001b[0;34m=\u001b[0m\u001b[0;34m\"Logarithmic\"\u001b[0m\u001b[0;34m)\u001b[0m\u001b[0;34m\u001b[0m\u001b[0m\n\u001b[1;32m      4\u001b[0m }\n",
      "\u001b[0;31mNameError\u001b[0m: name 'ContinuousParameter' is not defined"
     ]
    }
   ],
   "source": [
    "hyperparameter_ranges = {\n",
    "    'alpha': ContinuousParameter(0.01, 10, scaling_type=\"Logarithmic\"),\n",
    "    'lambda': ContinuousParameter(0.01, 10, scaling_type=\"Logarithmic\") \n",
    "}"
   ]
  },
  {
   "cell_type": "code",
   "execution_count": null,
   "metadata": {},
   "outputs": [],
   "source": [
    "\n",
    "tuner_log = HyperparameterTuner(\n",
    "    xgb,\n",
    "    objective_metric_name,\n",
    "    hyperparameter_ranges,\n",
    "    max_jobs=20,\n",
    "    max_parallel_jobs=10,\n",
    "    strategy='Random',\n",
    "    num_class = 11\n",
    ")\n",
    "\n",
    "tuner_log.fit({'train': s3_input_train, 'validation': s3_input_validation}, include_cls_metadata=False)"
   ]
  },
  {
   "cell_type": "code",
   "execution_count": 52,
   "metadata": {},
   "outputs": [],
   "source": [
    "#now we need to pass the x_data to the model. hence set the path\n",
    "s3_input_train = sagemaker.s3_input(s3_data = 's3://{}/{}/X_train'.format('sunithadatasets','data'),content_type ='csv')"
   ]
  },
  {
   "cell_type": "code",
   "execution_count": 53,
   "metadata": {},
   "outputs": [
    {
     "name": "stdout",
     "output_type": "stream",
     "text": [
      "2020-03-24 16:38:28 Starting - Starting the training job...\n",
      "2020-03-24 16:38:30 Starting - Launching requested ML instances...\n",
      "2020-03-24 16:39:28 Starting - Preparing the instances for training......\n",
      "2020-03-24 16:40:20 Downloading - Downloading input data\n",
      "2020-03-24 16:40:20 Training - Downloading the training image...\n",
      "2020-03-24 16:40:41 Training - Training image download completed. Training in progress.\u001b[34mINFO:sagemaker-containers:Imported framework sagemaker_xgboost_container.training\u001b[0m\n",
      "\u001b[34mINFO:sagemaker-containers:Failed to parse hyperparameter objective value multi:softmax to Json.\u001b[0m\n",
      "\u001b[34mReturning the value itself\u001b[0m\n",
      "\u001b[34mINFO:sagemaker-containers:No GPUs detected (normal if no gpus installed)\u001b[0m\n",
      "\u001b[34mINFO:sagemaker_xgboost_container.training:Running XGBoost Sagemaker in algorithm mode\u001b[0m\n",
      "\u001b[34mINFO:root:Determined delimiter of CSV input is ','\u001b[0m\n",
      "\u001b[34mINFO:root:Determined delimiter of CSV input is ','\u001b[0m\n",
      "\u001b[34m[16:40:43] 5000001x5 matrix with 25000005 entries loaded from /opt/ml/input/data/train?format=csv&label_column=0&delimiter=,\u001b[0m\n",
      "\u001b[34mINFO:root:Single node training.\u001b[0m\n",
      "\u001b[34mINFO:root:Train matrix has 5000001 rows\u001b[0m\n",
      "\u001b[34m[16:40:43] WARNING: /workspace/src/learner.cc:686: Tree method is automatically selected to be 'approx' for faster speed. To use old behavior (exact greedy algorithm on single machine), set tree_method to 'exact'.\u001b[0m\n",
      "\u001b[34m[0]#011train-merror:0.291878\u001b[0m\n",
      "\u001b[34m[1]#011train-merror:0.280529\u001b[0m\n",
      "\u001b[34m[2]#011train-merror:0.277362\u001b[0m\n",
      "\u001b[34m[3]#011train-merror:0.275001\u001b[0m\n",
      "\u001b[34m[4]#011train-merror:0.272381\u001b[0m\n",
      "\u001b[34m[5]#011train-merror:0.269765\u001b[0m\n",
      "\u001b[34m[6]#011train-merror:0.26851\u001b[0m\n",
      "\u001b[34m[7]#011train-merror:0.266661\u001b[0m\n",
      "\u001b[34m[8]#011train-merror:0.26556\u001b[0m\n",
      "\u001b[34m[9]#011train-merror:0.264826\u001b[0m\n",
      "\u001b[34m[10]#011train-merror:0.26354\u001b[0m\n",
      "\u001b[34m[11]#011train-merror:0.263038\u001b[0m\n",
      "\u001b[34m[12]#011train-merror:0.262573\u001b[0m\n",
      "\u001b[34m[13]#011train-merror:0.261518\u001b[0m\n",
      "\u001b[34m[14]#011train-merror:0.260732\u001b[0m\n",
      "\u001b[34m[15]#011train-merror:0.259678\u001b[0m\n",
      "\u001b[34m[16]#011train-merror:0.259092\u001b[0m\n",
      "\u001b[34m[17]#011train-merror:0.258383\u001b[0m\n",
      "\u001b[34m[18]#011train-merror:0.25773\u001b[0m\n",
      "\u001b[34m[19]#011train-merror:0.257297\u001b[0m\n",
      "\u001b[34m[20]#011train-merror:0.256786\u001b[0m\n",
      "\u001b[34m[21]#011train-merror:0.256275\u001b[0m\n",
      "\u001b[34m[22]#011train-merror:0.255533\u001b[0m\n",
      "\u001b[34m[23]#011train-merror:0.254842\u001b[0m\n",
      "\u001b[34m[24]#011train-merror:0.25466\u001b[0m\n",
      "\u001b[34m[25]#011train-merror:0.254184\u001b[0m\n",
      "\u001b[34m[26]#011train-merror:0.253521\u001b[0m\n",
      "\u001b[34m[27]#011train-merror:0.253085\u001b[0m\n",
      "\u001b[34m[28]#011train-merror:0.252568\u001b[0m\n",
      "\u001b[34m[29]#011train-merror:0.251909\u001b[0m\n",
      "\u001b[34m[30]#011train-merror:0.251642\u001b[0m\n",
      "\u001b[34m[31]#011train-merror:0.251338\u001b[0m\n",
      "\u001b[34m[32]#011train-merror:0.250933\u001b[0m\n",
      "\u001b[34m[33]#011train-merror:0.250499\u001b[0m\n",
      "\u001b[34m[34]#011train-merror:0.24999\u001b[0m\n",
      "\u001b[34m[35]#011train-merror:0.249703\u001b[0m\n",
      "\u001b[34m[36]#011train-merror:0.249452\u001b[0m\n",
      "\u001b[34m[37]#011train-merror:0.249226\u001b[0m\n",
      "\u001b[34m[38]#011train-merror:0.248885\u001b[0m\n",
      "\u001b[34m[39]#011train-merror:0.248643\u001b[0m\n",
      "\u001b[34m[40]#011train-merror:0.248302\u001b[0m\n",
      "\u001b[34m[41]#011train-merror:0.248087\u001b[0m\n",
      "\u001b[34m[42]#011train-merror:0.247814\u001b[0m\n",
      "\u001b[34m[43]#011train-merror:0.247581\u001b[0m\n",
      "\u001b[34m[44]#011train-merror:0.24718\u001b[0m\n",
      "\u001b[34m[45]#011train-merror:0.246947\u001b[0m\n",
      "\u001b[34m[46]#011train-merror:0.246707\u001b[0m\n",
      "\u001b[34m[47]#011train-merror:0.24659\u001b[0m\n",
      "\u001b[34m[48]#011train-merror:0.246415\u001b[0m\n",
      "\u001b[34m[49]#011train-merror:0.246228\u001b[0m\n",
      "\u001b[34m[50]#011train-merror:0.246081\u001b[0m\n",
      "\u001b[34m[51]#011train-merror:0.245915\u001b[0m\n",
      "\u001b[34m[52]#011train-merror:0.24574\u001b[0m\n",
      "\u001b[34m[53]#011train-merror:0.245578\u001b[0m\n",
      "\u001b[34m[54]#011train-merror:0.245376\u001b[0m\n",
      "\u001b[34m[55]#011train-merror:0.245186\u001b[0m\n",
      "\u001b[34m[56]#011train-merror:0.245028\u001b[0m\n",
      "\u001b[34m[57]#011train-merror:0.244903\u001b[0m\n",
      "\u001b[34m[58]#011train-merror:0.244785\u001b[0m\n",
      "\u001b[34m[59]#011train-merror:0.24467\u001b[0m\n",
      "\u001b[34m[60]#011train-merror:0.244531\u001b[0m\n",
      "\u001b[34m[61]#011train-merror:0.244362\u001b[0m\n",
      "\u001b[34m[62]#011train-merror:0.244235\u001b[0m\n",
      "\u001b[34m[63]#011train-merror:0.244158\u001b[0m\n",
      "\u001b[34m[64]#011train-merror:0.244024\u001b[0m\n",
      "\u001b[34m[65]#011train-merror:0.243929\u001b[0m\n",
      "\u001b[34m[66]#011train-merror:0.243811\u001b[0m\n",
      "\u001b[34m[67]#011train-merror:0.243714\u001b[0m\n",
      "\u001b[34m[68]#011train-merror:0.243585\u001b[0m\n",
      "\u001b[34m[69]#011train-merror:0.243476\u001b[0m\n",
      "\u001b[34m[70]#011train-merror:0.243411\u001b[0m\n",
      "\u001b[34m[71]#011train-merror:0.243333\u001b[0m\n",
      "\u001b[34m[72]#011train-merror:0.243248\u001b[0m\n",
      "\u001b[34m[73]#011train-merror:0.24317\u001b[0m\n",
      "\u001b[34m[74]#011train-merror:0.243114\u001b[0m\n",
      "\u001b[34m[75]#011train-merror:0.243051\u001b[0m\n",
      "\u001b[34m[76]#011train-merror:0.242969\u001b[0m\n",
      "\u001b[34m[77]#011train-merror:0.242913\u001b[0m\n",
      "\u001b[34m[78]#011train-merror:0.242832\u001b[0m\n",
      "\u001b[34m[79]#011train-merror:0.242778\u001b[0m\n",
      "\u001b[34m[80]#011train-merror:0.242732\u001b[0m\n",
      "\u001b[34m[81]#011train-merror:0.242673\u001b[0m\n",
      "\u001b[34m[82]#011train-merror:0.242634\u001b[0m\n",
      "\u001b[34m[83]#011train-merror:0.242564\u001b[0m\n",
      "\u001b[34m[84]#011train-merror:0.242543\u001b[0m\n",
      "\u001b[34m[85]#011train-merror:0.242477\u001b[0m\n",
      "\u001b[34m[86]#011train-merror:0.242409\u001b[0m\n",
      "\u001b[34m[87]#011train-merror:0.242363\u001b[0m\n",
      "\u001b[34m[88]#011train-merror:0.242301\u001b[0m\n",
      "\u001b[34m[89]#011train-merror:0.242219\u001b[0m\n",
      "\u001b[34m[90]#011train-merror:0.242169\u001b[0m\n",
      "\u001b[34m[91]#011train-merror:0.242119\u001b[0m\n",
      "\u001b[34m[92]#011train-merror:0.242075\u001b[0m\n",
      "\u001b[34m[93]#011train-merror:0.242037\u001b[0m\n",
      "\u001b[34m[94]#011train-merror:0.241991\u001b[0m\n",
      "\u001b[34m[95]#011train-merror:0.241929\u001b[0m\n",
      "\u001b[34m[96]#011train-merror:0.241867\u001b[0m\n",
      "\u001b[34m[97]#011train-merror:0.241812\u001b[0m\n",
      "\u001b[34m[98]#011train-merror:0.241746\u001b[0m\n",
      "\n",
      "2020-03-24 17:09:43 Uploading - Uploading generated training model\u001b[34m[99]#011train-merror:0.241724\u001b[0m\n",
      "\n",
      "2020-03-24 17:09:50 Completed - Training job completed\n",
      "Training seconds: 1781\n",
      "Billable seconds: 1781\n"
     ]
    }
   ],
   "source": [
    "xgb.fit({'train' : s3_input_train})"
   ]
  },
  {
   "cell_type": "code",
   "execution_count": 54,
   "metadata": {},
   "outputs": [
    {
     "name": "stdout",
     "output_type": "stream",
     "text": [
      "-------------!"
     ]
    }
   ],
   "source": [
    "#now, after training the model, lets deploy\n",
    "predictor = xgb.deploy(initial_instance_count =1, instance_type = \"ml.m4.xlarge\")"
   ]
  },
  {
   "cell_type": "code",
   "execution_count": 55,
   "metadata": {},
   "outputs": [],
   "source": [
    "import numpy as np\n",
    "from sagemaker.predictor import csv_serializer"
   ]
  },
  {
   "cell_type": "code",
   "execution_count": 65,
   "metadata": {},
   "outputs": [],
   "source": [
    "predictor.content_type = 'text/csv'\n",
    "predictor.serializer = csv_serializer\n",
    "predictor.deserializer = None\n",
    "\n",
    "def predict(data, rows=500):\n",
    "    split_array = np.array_split(data, int(data.shape[0] / float(rows) + 1))\n",
    "    predictions = ''\n",
    "    for array in split_array:\n",
    "        predictions = ','.join([predictions, predictor.predict(array).decode('utf-8')])\n",
    "\n",
    "    return np.fromstring(predictions[1:], sep=',')"
   ]
  },
  {
   "cell_type": "code",
   "execution_count": 66,
   "metadata": {},
   "outputs": [],
   "source": [
    "y_pred = predict(test_values.to_numpy())"
   ]
  },
  {
   "cell_type": "code",
   "execution_count": 74,
   "metadata": {},
   "outputs": [
    {
     "data": {
      "text/plain": [
       "array([0., 0., 0., ..., 0., 0., 0.])"
      ]
     },
     "execution_count": 74,
     "metadata": {},
     "output_type": "execute_result"
    }
   ],
   "source": [
    "y_pred"
   ]
  },
  {
   "cell_type": "code",
   "execution_count": 71,
   "metadata": {},
   "outputs": [],
   "source": [
    "#convert array into a dataframe\n",
    "df = pd.DataFrame(y_pred)"
   ]
  },
  {
   "cell_type": "code",
   "execution_count": 73,
   "metadata": {},
   "outputs": [
    {
     "data": {
      "text/plain": [
       "array([ 0.,  1.,  2.,  3.,  4.,  5.,  7.,  6.,  8., 10.,  9.])"
      ]
     },
     "execution_count": 73,
     "metadata": {},
     "output_type": "execute_result"
    }
   ],
   "source": [
    "df[0].unique()"
   ]
  },
  {
   "cell_type": "code",
   "execution_count": 75,
   "metadata": {},
   "outputs": [],
   "source": [
    "submission6 =pd.DataFrame()\n",
    "submission6['time'] = test_data.time\n",
    "submission6['open_channels'] = y_pred.astype(int)\n",
    "\n",
    "submission6.time = submission6.time.apply(lambda x: '{:.4f}'.format(x))\n",
    "#submission6.to_csv('data/XGBoost_submission5.csv',index=False)"
   ]
  },
  {
   "cell_type": "code",
   "execution_count": 76,
   "metadata": {},
   "outputs": [
    {
     "data": {
      "text/plain": [
       "array([ 0,  1,  2,  3,  4,  5,  7,  6,  8, 10,  9])"
      ]
     },
     "execution_count": 76,
     "metadata": {},
     "output_type": "execute_result"
    }
   ],
   "source": [
    "submission6.open_channels.unique()"
   ]
  },
  {
   "cell_type": "code",
   "execution_count": 77,
   "metadata": {},
   "outputs": [
    {
     "data": {
      "text/plain": [
       "{'ResponseMetadata': {'RequestId': 'B8B68758E2DC4ED4',\n",
       "  'HostId': '70Onu0JTZUakCsbRMdEy+iH1AfddreAAAPcYezxTkfmFw89ET4rwvLR/RxgXfO5Go0+Ad2dMqDk=',\n",
       "  'HTTPStatusCode': 200,\n",
       "  'HTTPHeaders': {'x-amz-id-2': '70Onu0JTZUakCsbRMdEy+iH1AfddreAAAPcYezxTkfmFw89ET4rwvLR/RxgXfO5Go0+Ad2dMqDk=',\n",
       "   'x-amz-request-id': 'B8B68758E2DC4ED4',\n",
       "   'date': 'Tue, 24 Mar 2020 17:45:51 GMT',\n",
       "   'etag': '\"4623c60bb7c38588e40165522b47b750\"',\n",
       "   'content-length': '0',\n",
       "   'server': 'AmazonS3'},\n",
       "  'RetryAttempts': 0},\n",
       " 'ETag': '\"4623c60bb7c38588e40165522b47b750\"'}"
      ]
     },
     "execution_count": 77,
     "metadata": {},
     "output_type": "execute_result"
    }
   ],
   "source": [
    "# Save final kagggle file to csv\n",
    "bucket ='sunithadatasets'\n",
    "csv_buffer = StringIO()\n",
    "submission6.to_csv(csv_buffer,index=False)\n",
    "s3_resource = boto3.resource('s3')\n",
    "s3_resource.Object(bucket,'data/XGBoost_submission8.csv').put(Body=csv_buffer.getvalue())"
   ]
  },
  {
   "cell_type": "code",
   "execution_count": null,
   "metadata": {},
   "outputs": [],
   "source": []
  }
 ],
 "metadata": {
  "kernelspec": {
   "display_name": "Python 3",
   "language": "python",
   "name": "python3"
  },
  "language_info": {
   "codemirror_mode": {
    "name": "ipython",
    "version": 3
   },
   "file_extension": ".py",
   "mimetype": "text/x-python",
   "name": "python",
   "nbconvert_exporter": "python",
   "pygments_lexer": "ipython3",
   "version": "3.7.3"
  }
 },
 "nbformat": 4,
 "nbformat_minor": 4
}
