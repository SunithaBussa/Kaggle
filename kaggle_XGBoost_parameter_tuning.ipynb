{
 "cells": [
  {
   "cell_type": "code",
   "execution_count": 20,
   "metadata": {},
   "outputs": [],
   "source": [
    "import boto3\n",
    "import pandas as pd\n",
    "import io\n",
    "from io import StringIO\n",
    "from sklearn.model_selection import train_test_split\n",
    "import sagemaker\n",
    "from sagemaker import get_execution_role\n",
    "from sagemaker.tuner import IntegerParameter, CategoricalParameter, ContinuousParameter, HyperparameterTuner "
   ]
  },
  {
   "cell_type": "code",
   "execution_count": 2,
   "metadata": {},
   "outputs": [],
   "source": [
    "#create sagemaker session and get execution role\n",
    "sagemaker_session = sagemaker.Session()\n",
    "role = get_execution_role()"
   ]
  },
  {
   "cell_type": "code",
   "execution_count": 3,
   "metadata": {},
   "outputs": [],
   "source": [
    "#get training data from csv which is saved in your bucket\n",
    "s3 = boto3.client('s3')\n",
    "ion_data_obj = s3.get_object(Bucket = 'sunithadatasets', Key = 'data/train_data_with_features.csv')\n",
    "ion_data = pd.read_csv(io.BytesIO(ion_data_obj['Body'].read()))"
   ]
  },
  {
   "cell_type": "code",
   "execution_count": 4,
   "metadata": {},
   "outputs": [],
   "source": [
    "#get test data with features from csv which is saved in your bucket\n",
    "test_data_obj = s3.get_object(Bucket = 'sunithadatasets',Key = 'data/test_data_with_features.csv')\n",
    "test_data = pd.read_csv(io.BytesIO(test_data_obj['Body'].read()))"
   ]
  },
  {
   "cell_type": "code",
   "execution_count": 8,
   "metadata": {},
   "outputs": [
    {
     "data": {
      "text/html": [
       "<div>\n",
       "<style scoped>\n",
       "    .dataframe tbody tr th:only-of-type {\n",
       "        vertical-align: middle;\n",
       "    }\n",
       "\n",
       "    .dataframe tbody tr th {\n",
       "        vertical-align: top;\n",
       "    }\n",
       "\n",
       "    .dataframe thead th {\n",
       "        text-align: right;\n",
       "    }\n",
       "</style>\n",
       "<table border=\"1\" class=\"dataframe\">\n",
       "  <thead>\n",
       "    <tr style=\"text-align: right;\">\n",
       "      <th></th>\n",
       "      <th>time</th>\n",
       "      <th>signal</th>\n",
       "      <th>open_channels</th>\n",
       "      <th>batch</th>\n",
       "      <th>simple_moving_avg_50</th>\n",
       "      <th>rolling_std_50</th>\n",
       "      <th>simple_moving_avg_50_batch</th>\n",
       "      <th>moving_std_50_batch</th>\n",
       "    </tr>\n",
       "  </thead>\n",
       "  <tbody>\n",
       "    <tr>\n",
       "      <th>0</th>\n",
       "      <td>0.0001</td>\n",
       "      <td>-2.7600</td>\n",
       "      <td>0</td>\n",
       "      <td>0</td>\n",
       "      <td>0.0</td>\n",
       "      <td>0.0</td>\n",
       "      <td>0.0</td>\n",
       "      <td>0.0</td>\n",
       "    </tr>\n",
       "    <tr>\n",
       "      <th>1</th>\n",
       "      <td>0.0002</td>\n",
       "      <td>-2.8557</td>\n",
       "      <td>0</td>\n",
       "      <td>0</td>\n",
       "      <td>0.0</td>\n",
       "      <td>0.0</td>\n",
       "      <td>0.0</td>\n",
       "      <td>0.0</td>\n",
       "    </tr>\n",
       "    <tr>\n",
       "      <th>2</th>\n",
       "      <td>0.0003</td>\n",
       "      <td>-2.4074</td>\n",
       "      <td>0</td>\n",
       "      <td>0</td>\n",
       "      <td>0.0</td>\n",
       "      <td>0.0</td>\n",
       "      <td>0.0</td>\n",
       "      <td>0.0</td>\n",
       "    </tr>\n",
       "    <tr>\n",
       "      <th>3</th>\n",
       "      <td>0.0004</td>\n",
       "      <td>-3.1404</td>\n",
       "      <td>0</td>\n",
       "      <td>0</td>\n",
       "      <td>0.0</td>\n",
       "      <td>0.0</td>\n",
       "      <td>0.0</td>\n",
       "      <td>0.0</td>\n",
       "    </tr>\n",
       "    <tr>\n",
       "      <th>4</th>\n",
       "      <td>0.0005</td>\n",
       "      <td>-3.1525</td>\n",
       "      <td>0</td>\n",
       "      <td>0</td>\n",
       "      <td>0.0</td>\n",
       "      <td>0.0</td>\n",
       "      <td>0.0</td>\n",
       "      <td>0.0</td>\n",
       "    </tr>\n",
       "  </tbody>\n",
       "</table>\n",
       "</div>"
      ],
      "text/plain": [
       "     time  signal  open_channels  batch  simple_moving_avg_50  rolling_std_50  \\\n",
       "0  0.0001 -2.7600              0      0                   0.0             0.0   \n",
       "1  0.0002 -2.8557              0      0                   0.0             0.0   \n",
       "2  0.0003 -2.4074              0      0                   0.0             0.0   \n",
       "3  0.0004 -3.1404              0      0                   0.0             0.0   \n",
       "4  0.0005 -3.1525              0      0                   0.0             0.0   \n",
       "\n",
       "   simple_moving_avg_50_batch  moving_std_50_batch  \n",
       "0                         0.0                  0.0  \n",
       "1                         0.0                  0.0  \n",
       "2                         0.0                  0.0  \n",
       "3                         0.0                  0.0  \n",
       "4                         0.0                  0.0  "
      ]
     },
     "execution_count": 8,
     "metadata": {},
     "output_type": "execute_result"
    }
   ],
   "source": [
    " ion_data.head()"
   ]
  },
  {
   "cell_type": "code",
   "execution_count": 6,
   "metadata": {},
   "outputs": [],
   "source": [
    "#used for predictions\n",
    "test_values=test_data[['signal','simple_moving_avg_50','rolling_std_50','simple_moving_avg_50_batch','moving_std_50_batch']]"
   ]
  },
  {
   "cell_type": "code",
   "execution_count": 7,
   "metadata": {},
   "outputs": [
    {
     "data": {
      "text/html": [
       "<div>\n",
       "<style scoped>\n",
       "    .dataframe tbody tr th:only-of-type {\n",
       "        vertical-align: middle;\n",
       "    }\n",
       "\n",
       "    .dataframe tbody tr th {\n",
       "        vertical-align: top;\n",
       "    }\n",
       "\n",
       "    .dataframe thead th {\n",
       "        text-align: right;\n",
       "    }\n",
       "</style>\n",
       "<table border=\"1\" class=\"dataframe\">\n",
       "  <thead>\n",
       "    <tr style=\"text-align: right;\">\n",
       "      <th></th>\n",
       "      <th>signal</th>\n",
       "      <th>simple_moving_avg_50</th>\n",
       "      <th>rolling_std_50</th>\n",
       "      <th>simple_moving_avg_50_batch</th>\n",
       "      <th>moving_std_50_batch</th>\n",
       "    </tr>\n",
       "  </thead>\n",
       "  <tbody>\n",
       "    <tr>\n",
       "      <th>0</th>\n",
       "      <td>-2.6498</td>\n",
       "      <td>0.0</td>\n",
       "      <td>0.0</td>\n",
       "      <td>0.0</td>\n",
       "      <td>0.0</td>\n",
       "    </tr>\n",
       "    <tr>\n",
       "      <th>1</th>\n",
       "      <td>-2.8494</td>\n",
       "      <td>0.0</td>\n",
       "      <td>0.0</td>\n",
       "      <td>0.0</td>\n",
       "      <td>0.0</td>\n",
       "    </tr>\n",
       "    <tr>\n",
       "      <th>2</th>\n",
       "      <td>-2.8600</td>\n",
       "      <td>0.0</td>\n",
       "      <td>0.0</td>\n",
       "      <td>0.0</td>\n",
       "      <td>0.0</td>\n",
       "    </tr>\n",
       "    <tr>\n",
       "      <th>3</th>\n",
       "      <td>-2.4350</td>\n",
       "      <td>0.0</td>\n",
       "      <td>0.0</td>\n",
       "      <td>0.0</td>\n",
       "      <td>0.0</td>\n",
       "    </tr>\n",
       "    <tr>\n",
       "      <th>4</th>\n",
       "      <td>-2.6155</td>\n",
       "      <td>0.0</td>\n",
       "      <td>0.0</td>\n",
       "      <td>0.0</td>\n",
       "      <td>0.0</td>\n",
       "    </tr>\n",
       "  </tbody>\n",
       "</table>\n",
       "</div>"
      ],
      "text/plain": [
       "   signal  simple_moving_avg_50  rolling_std_50  simple_moving_avg_50_batch  \\\n",
       "0 -2.6498                   0.0             0.0                         0.0   \n",
       "1 -2.8494                   0.0             0.0                         0.0   \n",
       "2 -2.8600                   0.0             0.0                         0.0   \n",
       "3 -2.4350                   0.0             0.0                         0.0   \n",
       "4 -2.6155                   0.0             0.0                         0.0   \n",
       "\n",
       "   moving_std_50_batch  \n",
       "0                  0.0  \n",
       "1                  0.0  \n",
       "2                  0.0  \n",
       "3                  0.0  \n",
       "4                  0.0  "
      ]
     },
     "execution_count": 7,
     "metadata": {},
     "output_type": "execute_result"
    }
   ],
   "source": [
    "test_values.head()"
   ]
  },
  {
   "cell_type": "code",
   "execution_count": 21,
   "metadata": {},
   "outputs": [],
   "source": [
    "#get only columns which you want to feed into your model\n",
    "X = ion_data[['open_channels','signal','simple_moving_avg_50','rolling_std_50','simple_moving_avg_50_batch','moving_std_50_batch']]\n",
    "x_train,x_test = train_test_split(X,test_size = 0.2,stratify=X.open_channels)"
   ]
  },
  {
   "cell_type": "code",
   "execution_count": 23,
   "metadata": {},
   "outputs": [
    {
     "data": {
      "text/plain": [
       "{'ResponseMetadata': {'RequestId': 'C0F859FC6D210D4F',\n",
       "  'HostId': '3Hdh1iELg6FmZKnwcBO5J26WbzkZTAUAozzJ7MlgOJ5kyX/wRTPlAMJg11q/WOykIk8Bn5Ctnwg=',\n",
       "  'HTTPStatusCode': 200,\n",
       "  'HTTPHeaders': {'x-amz-id-2': '3Hdh1iELg6FmZKnwcBO5J26WbzkZTAUAozzJ7MlgOJ5kyX/wRTPlAMJg11q/WOykIk8Bn5Ctnwg=',\n",
       "   'x-amz-request-id': 'C0F859FC6D210D4F',\n",
       "   'date': 'Wed, 25 Mar 2020 21:21:06 GMT',\n",
       "   'etag': '\"cd6533cf21a87f934ae0fbc8266e8db0\"',\n",
       "   'content-length': '0',\n",
       "   'server': 'AmazonS3'},\n",
       "  'RetryAttempts': 0},\n",
       " 'ETag': '\"cd6533cf21a87f934ae0fbc8266e8db0\"'}"
      ]
     },
     "execution_count": 23,
     "metadata": {},
     "output_type": "execute_result"
    }
   ],
   "source": [
    "# Save this X (training data into a file X_train)\n",
    "bucket ='sunithadatasets'\n",
    "csv_buffer = StringIO()\n",
    "x_train.to_csv(csv_buffer,index=False)\n",
    "s3_resource = boto3.resource('s3')\n",
    "s3_resource.Object(bucket,'data/x_train.csv').put(Body=csv_buffer.getvalue())\n"
   ]
  },
  {
   "cell_type": "code",
   "execution_count": 24,
   "metadata": {},
   "outputs": [
    {
     "data": {
      "text/plain": [
       "{'ResponseMetadata': {'RequestId': '71097984B7D28D0E',\n",
       "  'HostId': 'Yti1oiuWFUHBfVK6Y7ac5GXDmYURCUzsO6iO33ywGzhmf4wzCs7DeuPXZ2QXMCTdm8+HqgLvCqg=',\n",
       "  'HTTPStatusCode': 200,\n",
       "  'HTTPHeaders': {'x-amz-id-2': 'Yti1oiuWFUHBfVK6Y7ac5GXDmYURCUzsO6iO33ywGzhmf4wzCs7DeuPXZ2QXMCTdm8+HqgLvCqg=',\n",
       "   'x-amz-request-id': '71097984B7D28D0E',\n",
       "   'date': 'Wed, 25 Mar 2020 21:21:20 GMT',\n",
       "   'etag': '\"9eb24dd129a0f413bc119a768b9481d9\"',\n",
       "   'content-length': '0',\n",
       "   'server': 'AmazonS3'},\n",
       "  'RetryAttempts': 0},\n",
       " 'ETag': '\"9eb24dd129a0f413bc119a768b9481d9\"'}"
      ]
     },
     "execution_count": 24,
     "metadata": {},
     "output_type": "execute_result"
    }
   ],
   "source": [
    "bucket ='sunithadatasets'\n",
    "csv_buffer = StringIO()\n",
    "x_test.to_csv(csv_buffer,index=False)\n",
    "s3_resource = boto3.resource('s3')\n",
    "s3_resource.Object(bucket,'data/x_test.csv').put(Body=csv_buffer.getvalue())"
   ]
  },
  {
   "cell_type": "code",
   "execution_count": 35,
   "metadata": {},
   "outputs": [
    {
     "data": {
      "text/html": [
       "<div>\n",
       "<style scoped>\n",
       "    .dataframe tbody tr th:only-of-type {\n",
       "        vertical-align: middle;\n",
       "    }\n",
       "\n",
       "    .dataframe tbody tr th {\n",
       "        vertical-align: top;\n",
       "    }\n",
       "\n",
       "    .dataframe thead th {\n",
       "        text-align: right;\n",
       "    }\n",
       "</style>\n",
       "<table border=\"1\" class=\"dataframe\">\n",
       "  <thead>\n",
       "    <tr style=\"text-align: right;\">\n",
       "      <th></th>\n",
       "      <th>open_channels</th>\n",
       "      <th>signal</th>\n",
       "      <th>simple_moving_avg_50</th>\n",
       "      <th>rolling_std_50</th>\n",
       "      <th>simple_moving_avg_50_batch</th>\n",
       "      <th>moving_std_50_batch</th>\n",
       "    </tr>\n",
       "  </thead>\n",
       "  <tbody>\n",
       "    <tr>\n",
       "      <th>0</th>\n",
       "      <td>0</td>\n",
       "      <td>-2.7600</td>\n",
       "      <td>0.0</td>\n",
       "      <td>0.0</td>\n",
       "      <td>0.0</td>\n",
       "      <td>0.0</td>\n",
       "    </tr>\n",
       "    <tr>\n",
       "      <th>1</th>\n",
       "      <td>0</td>\n",
       "      <td>-2.8557</td>\n",
       "      <td>0.0</td>\n",
       "      <td>0.0</td>\n",
       "      <td>0.0</td>\n",
       "      <td>0.0</td>\n",
       "    </tr>\n",
       "    <tr>\n",
       "      <th>2</th>\n",
       "      <td>0</td>\n",
       "      <td>-2.4074</td>\n",
       "      <td>0.0</td>\n",
       "      <td>0.0</td>\n",
       "      <td>0.0</td>\n",
       "      <td>0.0</td>\n",
       "    </tr>\n",
       "    <tr>\n",
       "      <th>3</th>\n",
       "      <td>0</td>\n",
       "      <td>-3.1404</td>\n",
       "      <td>0.0</td>\n",
       "      <td>0.0</td>\n",
       "      <td>0.0</td>\n",
       "      <td>0.0</td>\n",
       "    </tr>\n",
       "    <tr>\n",
       "      <th>4</th>\n",
       "      <td>0</td>\n",
       "      <td>-3.1525</td>\n",
       "      <td>0.0</td>\n",
       "      <td>0.0</td>\n",
       "      <td>0.0</td>\n",
       "      <td>0.0</td>\n",
       "    </tr>\n",
       "  </tbody>\n",
       "</table>\n",
       "</div>"
      ],
      "text/plain": [
       "   open_channels  signal  simple_moving_avg_50  rolling_std_50  \\\n",
       "0              0 -2.7600                   0.0             0.0   \n",
       "1              0 -2.8557                   0.0             0.0   \n",
       "2              0 -2.4074                   0.0             0.0   \n",
       "3              0 -3.1404                   0.0             0.0   \n",
       "4              0 -3.1525                   0.0             0.0   \n",
       "\n",
       "   simple_moving_avg_50_batch  moving_std_50_batch  \n",
       "0                         0.0                  0.0  \n",
       "1                         0.0                  0.0  \n",
       "2                         0.0                  0.0  \n",
       "3                         0.0                  0.0  \n",
       "4                         0.0                  0.0  "
      ]
     },
     "execution_count": 35,
     "metadata": {},
     "output_type": "execute_result"
    }
   ],
   "source": [
    "X.head()"
   ]
  },
  {
   "cell_type": "code",
   "execution_count": 25,
   "metadata": {},
   "outputs": [],
   "source": [
    "#assign region,set client/service and bucket\n",
    "\n",
    "region = boto3.Session().region_name\n",
    "smclient = boto3.Session().client('sagemaker')\n",
    "\n",
    "bucket = sagemaker.Session().default_bucket()\n"
   ]
  },
  {
   "cell_type": "code",
   "execution_count": 26,
   "metadata": {},
   "outputs": [],
   "source": [
    "from sagemaker.amazon.amazon_estimator import get_image_uri"
   ]
  },
  {
   "cell_type": "code",
   "execution_count": 27,
   "metadata": {},
   "outputs": [],
   "source": [
    "container = get_image_uri(region,'xgboost',repo_version='0.90-1')"
   ]
  },
  {
   "cell_type": "code",
   "execution_count": 28,
   "metadata": {},
   "outputs": [],
   "source": [
    "#instantiating an sagemaker container where we run our models. speicifying the details.\n",
    "xgb = sagemaker.estimator.Estimator(\n",
    "container,\n",
    "role,\n",
    "train_instance_count =1,\n",
    "#train_instance_type = 'ml.m4.xlarge',\n",
    "train_instance_type = 'ml.m5.4xlarge',\n",
    "output_path='s3://{}/{}/output'.format('sunithadatasets','data'),\n",
    "sagemaker_session = sagemaker_session)"
   ]
  },
  {
   "cell_type": "code",
   "execution_count": 29,
   "metadata": {},
   "outputs": [],
   "source": [
    "xgb.set_hyperparameters(\n",
    "num_round = 250,\n",
    "#rate_drop = 0.3,\n",
    "early_stopping_rounds = 10,\n",
    "#alpha = 0.25,\n",
    "num_class = 11,\n",
    "objective = \"multi:softmax\" )\n",
    "\n",
    "objective_metric_name = 'validation:f1'"
   ]
  },
  {
   "cell_type": "code",
   "execution_count": 30,
   "metadata": {},
   "outputs": [],
   "source": [
    "hyperparameter_ranges = {\n",
    "    'alpha': ContinuousParameter(0.01, 10, scaling_type=\"Logarithmic\"),\n",
    "    'lambda': ContinuousParameter(0.01, 10, scaling_type=\"Logarithmic\")\n",
    "}"
   ]
  },
  {
   "cell_type": "code",
   "execution_count": 31,
   "metadata": {},
   "outputs": [],
   "source": [
    "#now we need to pass the x_data to the model. hence set the path\n",
    "s3_input_train = sagemaker.s3_input(s3_data = 's3://{}/{}/x_train'.format('sunithadatasets','data'),content_type ='csv')"
   ]
  },
  {
   "cell_type": "code",
   "execution_count": 32,
   "metadata": {},
   "outputs": [],
   "source": [
    "s3_input_validation = sagemaker.s3_input(s3_data = 's3://{}/{}/x_test'.format('sunithadatasets','data'),content_type ='csv')"
   ]
  },
  {
   "cell_type": "code",
   "execution_count": 34,
   "metadata": {},
   "outputs": [],
   "source": [
    "\n",
    "tuner_log = HyperparameterTuner(\n",
    "    xgb,\n",
    "    objective_metric_name,\n",
    "    hyperparameter_ranges,\n",
    "    max_jobs=20,\n",
    "    max_parallel_jobs=10,\n",
    "    strategy='Random'\n",
    ")\n",
    "\n",
    "tuner_log.fit({'train': s3_input_train, 'validation': s3_input_validation}, include_cls_metadata=False)"
   ]
  },
  {
   "cell_type": "code",
   "execution_count": 37,
   "metadata": {},
   "outputs": [],
   "source": [
    "import seaborn as sns\n",
    "import pandas as pd\n",
    "import matplotlib.pyplot as plt\n",
    "\n",
    "# check jobs have finished\n",
    "#status_log = boto3.client('sagemaker').describe_hyper_parameter_tuning_job(\n",
    " #   HyperParameterTuningJobName=tuner_log.latest_tuning_job.job_name)['HyperParameterTuningJobStatus']\n",
    "#status_linear = boto3.client('sagemaker').describe_hyper_parameter_tuning_job(\n",
    " #   HyperParameterTuningJobName=tuner_linear.latest_tuning_job.job_name)['HyperParameterTuningJobStatus']\n",
    "\n",
    "#assert status_log == 'Completed', \"First must be completed, was {}\".format(status_log)\n",
    "#assert status_linear == 'Completed', \"Second must be completed, was {}\".format(status_linear)\n",
    "\n",
    "df_log = sagemaker.HyperparameterTuningJobAnalytics(tuner_log.latest_tuning_job.job_name).dataframe()\n",
    "#df_linear = sagemaker.HyperparameterTuningJobAnalytics(tuner_linear.latest_tuning_job.job_name).dataframe()\n",
    "#df_log['scaling'] = 'log'\n",
    "#df_linear['scaling'] = 'linear'\n",
    "#df = pd.concat([df_log, df_linear], ignore_index=True)"
   ]
  },
  {
   "cell_type": "code",
   "execution_count": 41,
   "metadata": {},
   "outputs": [
    {
     "data": {
      "text/html": [
       "<div>\n",
       "<style scoped>\n",
       "    .dataframe tbody tr th:only-of-type {\n",
       "        vertical-align: middle;\n",
       "    }\n",
       "\n",
       "    .dataframe tbody tr th {\n",
       "        vertical-align: top;\n",
       "    }\n",
       "\n",
       "    .dataframe thead th {\n",
       "        text-align: right;\n",
       "    }\n",
       "</style>\n",
       "<table border=\"1\" class=\"dataframe\">\n",
       "  <thead>\n",
       "    <tr style=\"text-align: right;\">\n",
       "      <th></th>\n",
       "      <th>FinalObjectiveValue</th>\n",
       "      <th>TrainingElapsedTimeSeconds</th>\n",
       "      <th>TrainingEndTime</th>\n",
       "      <th>TrainingJobName</th>\n",
       "      <th>TrainingJobStatus</th>\n",
       "      <th>TrainingStartTime</th>\n",
       "      <th>alpha</th>\n",
       "      <th>lambda</th>\n",
       "    </tr>\n",
       "  </thead>\n",
       "  <tbody>\n",
       "    <tr>\n",
       "      <th>8</th>\n",
       "      <td>0.639808</td>\n",
       "      <td>350.0</td>\n",
       "      <td>2020-03-25 21:44:37+00:00</td>\n",
       "      <td>sagemaker-xgboost-200325-2126-012-5bc39bab</td>\n",
       "      <td>Completed</td>\n",
       "      <td>2020-03-25 21:38:47+00:00</td>\n",
       "      <td>0.134073</td>\n",
       "      <td>5.277374</td>\n",
       "    </tr>\n",
       "    <tr>\n",
       "      <th>13</th>\n",
       "      <td>0.639799</td>\n",
       "      <td>348.0</td>\n",
       "      <td>2020-03-25 21:35:26+00:00</td>\n",
       "      <td>sagemaker-xgboost-200325-2126-007-034bbbea</td>\n",
       "      <td>Completed</td>\n",
       "      <td>2020-03-25 21:29:38+00:00</td>\n",
       "      <td>5.491171</td>\n",
       "      <td>0.166140</td>\n",
       "    </tr>\n",
       "    <tr>\n",
       "      <th>7</th>\n",
       "      <td>0.639781</td>\n",
       "      <td>345.0</td>\n",
       "      <td>2020-03-25 21:44:19+00:00</td>\n",
       "      <td>sagemaker-xgboost-200325-2126-013-9886dffc</td>\n",
       "      <td>Completed</td>\n",
       "      <td>2020-03-25 21:38:34+00:00</td>\n",
       "      <td>1.037658</td>\n",
       "      <td>2.096381</td>\n",
       "    </tr>\n",
       "    <tr>\n",
       "      <th>4</th>\n",
       "      <td>0.639677</td>\n",
       "      <td>343.0</td>\n",
       "      <td>2020-03-25 21:44:15+00:00</td>\n",
       "      <td>sagemaker-xgboost-200325-2126-016-630af7bc</td>\n",
       "      <td>Completed</td>\n",
       "      <td>2020-03-25 21:38:32+00:00</td>\n",
       "      <td>2.335517</td>\n",
       "      <td>5.126630</td>\n",
       "    </tr>\n",
       "    <tr>\n",
       "      <th>2</th>\n",
       "      <td>0.639641</td>\n",
       "      <td>342.0</td>\n",
       "      <td>2020-03-25 21:44:26+00:00</td>\n",
       "      <td>sagemaker-xgboost-200325-2126-018-fd740ec1</td>\n",
       "      <td>Completed</td>\n",
       "      <td>2020-03-25 21:38:44+00:00</td>\n",
       "      <td>0.018886</td>\n",
       "      <td>2.176522</td>\n",
       "    </tr>\n",
       "    <tr>\n",
       "      <th>6</th>\n",
       "      <td>0.639594</td>\n",
       "      <td>344.0</td>\n",
       "      <td>2020-03-25 21:44:20+00:00</td>\n",
       "      <td>sagemaker-xgboost-200325-2126-014-342f131a</td>\n",
       "      <td>Completed</td>\n",
       "      <td>2020-03-25 21:38:36+00:00</td>\n",
       "      <td>0.015670</td>\n",
       "      <td>5.001017</td>\n",
       "    </tr>\n",
       "    <tr>\n",
       "      <th>18</th>\n",
       "      <td>0.639510</td>\n",
       "      <td>340.0</td>\n",
       "      <td>2020-03-25 21:35:28+00:00</td>\n",
       "      <td>sagemaker-xgboost-200325-2126-002-c819a209</td>\n",
       "      <td>Completed</td>\n",
       "      <td>2020-03-25 21:29:48+00:00</td>\n",
       "      <td>0.804632</td>\n",
       "      <td>0.440205</td>\n",
       "    </tr>\n",
       "    <tr>\n",
       "      <th>3</th>\n",
       "      <td>0.639467</td>\n",
       "      <td>370.0</td>\n",
       "      <td>2020-03-25 21:45:31+00:00</td>\n",
       "      <td>sagemaker-xgboost-200325-2126-017-6310f5ba</td>\n",
       "      <td>Completed</td>\n",
       "      <td>2020-03-25 21:39:21+00:00</td>\n",
       "      <td>0.251007</td>\n",
       "      <td>0.030732</td>\n",
       "    </tr>\n",
       "    <tr>\n",
       "      <th>11</th>\n",
       "      <td>0.639452</td>\n",
       "      <td>345.0</td>\n",
       "      <td>2020-03-25 21:35:14+00:00</td>\n",
       "      <td>sagemaker-xgboost-200325-2126-009-6163657b</td>\n",
       "      <td>Completed</td>\n",
       "      <td>2020-03-25 21:29:29+00:00</td>\n",
       "      <td>0.013693</td>\n",
       "      <td>1.334477</td>\n",
       "    </tr>\n",
       "    <tr>\n",
       "      <th>16</th>\n",
       "      <td>0.639449</td>\n",
       "      <td>345.0</td>\n",
       "      <td>2020-03-25 21:35:13+00:00</td>\n",
       "      <td>sagemaker-xgboost-200325-2126-004-efcd30b0</td>\n",
       "      <td>Completed</td>\n",
       "      <td>2020-03-25 21:29:28+00:00</td>\n",
       "      <td>0.010539</td>\n",
       "      <td>0.422354</td>\n",
       "    </tr>\n",
       "    <tr>\n",
       "      <th>19</th>\n",
       "      <td>0.639432</td>\n",
       "      <td>342.0</td>\n",
       "      <td>2020-03-25 21:35:04+00:00</td>\n",
       "      <td>sagemaker-xgboost-200325-2126-001-0de5be78</td>\n",
       "      <td>Completed</td>\n",
       "      <td>2020-03-25 21:29:22+00:00</td>\n",
       "      <td>1.379756</td>\n",
       "      <td>0.043770</td>\n",
       "    </tr>\n",
       "    <tr>\n",
       "      <th>1</th>\n",
       "      <td>0.639425</td>\n",
       "      <td>340.0</td>\n",
       "      <td>2020-03-25 21:44:13+00:00</td>\n",
       "      <td>sagemaker-xgboost-200325-2126-019-e55e96dd</td>\n",
       "      <td>Completed</td>\n",
       "      <td>2020-03-25 21:38:33+00:00</td>\n",
       "      <td>0.072041</td>\n",
       "      <td>0.103607</td>\n",
       "    </tr>\n",
       "    <tr>\n",
       "      <th>15</th>\n",
       "      <td>0.639418</td>\n",
       "      <td>340.0</td>\n",
       "      <td>2020-03-25 21:34:56+00:00</td>\n",
       "      <td>sagemaker-xgboost-200325-2126-005-f6a55d4a</td>\n",
       "      <td>Completed</td>\n",
       "      <td>2020-03-25 21:29:16+00:00</td>\n",
       "      <td>0.207415</td>\n",
       "      <td>0.117178</td>\n",
       "    </tr>\n",
       "    <tr>\n",
       "      <th>12</th>\n",
       "      <td>0.639410</td>\n",
       "      <td>342.0</td>\n",
       "      <td>2020-03-25 21:35:13+00:00</td>\n",
       "      <td>sagemaker-xgboost-200325-2126-008-28e7c34d</td>\n",
       "      <td>Completed</td>\n",
       "      <td>2020-03-25 21:29:31+00:00</td>\n",
       "      <td>0.012672</td>\n",
       "      <td>0.027989</td>\n",
       "    </tr>\n",
       "    <tr>\n",
       "      <th>5</th>\n",
       "      <td>0.639380</td>\n",
       "      <td>340.0</td>\n",
       "      <td>2020-03-25 21:44:19+00:00</td>\n",
       "      <td>sagemaker-xgboost-200325-2126-015-c7817f1b</td>\n",
       "      <td>Completed</td>\n",
       "      <td>2020-03-25 21:38:39+00:00</td>\n",
       "      <td>0.696019</td>\n",
       "      <td>0.126713</td>\n",
       "    </tr>\n",
       "    <tr>\n",
       "      <th>14</th>\n",
       "      <td>0.639362</td>\n",
       "      <td>342.0</td>\n",
       "      <td>2020-03-25 21:35:13+00:00</td>\n",
       "      <td>sagemaker-xgboost-200325-2126-006-0d7e4a41</td>\n",
       "      <td>Completed</td>\n",
       "      <td>2020-03-25 21:29:31+00:00</td>\n",
       "      <td>0.012360</td>\n",
       "      <td>0.064971</td>\n",
       "    </tr>\n",
       "    <tr>\n",
       "      <th>17</th>\n",
       "      <td>0.639353</td>\n",
       "      <td>345.0</td>\n",
       "      <td>2020-03-25 21:35:26+00:00</td>\n",
       "      <td>sagemaker-xgboost-200325-2126-003-832e67a1</td>\n",
       "      <td>Completed</td>\n",
       "      <td>2020-03-25 21:29:41+00:00</td>\n",
       "      <td>0.283379</td>\n",
       "      <td>0.890543</td>\n",
       "    </tr>\n",
       "    <tr>\n",
       "      <th>9</th>\n",
       "      <td>0.639323</td>\n",
       "      <td>369.0</td>\n",
       "      <td>2020-03-25 21:45:07+00:00</td>\n",
       "      <td>sagemaker-xgboost-200325-2126-011-2b4628ea</td>\n",
       "      <td>Completed</td>\n",
       "      <td>2020-03-25 21:38:58+00:00</td>\n",
       "      <td>1.289337</td>\n",
       "      <td>0.676605</td>\n",
       "    </tr>\n",
       "    <tr>\n",
       "      <th>0</th>\n",
       "      <td>0.639162</td>\n",
       "      <td>343.0</td>\n",
       "      <td>2020-03-25 21:44:28+00:00</td>\n",
       "      <td>sagemaker-xgboost-200325-2126-020-4672e1d7</td>\n",
       "      <td>Completed</td>\n",
       "      <td>2020-03-25 21:38:45+00:00</td>\n",
       "      <td>0.630409</td>\n",
       "      <td>0.099984</td>\n",
       "    </tr>\n",
       "    <tr>\n",
       "      <th>10</th>\n",
       "      <td>0.639059</td>\n",
       "      <td>340.0</td>\n",
       "      <td>2020-03-25 21:35:23+00:00</td>\n",
       "      <td>sagemaker-xgboost-200325-2126-010-3d25f724</td>\n",
       "      <td>Completed</td>\n",
       "      <td>2020-03-25 21:29:43+00:00</td>\n",
       "      <td>1.219301</td>\n",
       "      <td>0.031403</td>\n",
       "    </tr>\n",
       "  </tbody>\n",
       "</table>\n",
       "</div>"
      ],
      "text/plain": [
       "    FinalObjectiveValue  TrainingElapsedTimeSeconds           TrainingEndTime  \\\n",
       "8              0.639808                       350.0 2020-03-25 21:44:37+00:00   \n",
       "13             0.639799                       348.0 2020-03-25 21:35:26+00:00   \n",
       "7              0.639781                       345.0 2020-03-25 21:44:19+00:00   \n",
       "4              0.639677                       343.0 2020-03-25 21:44:15+00:00   \n",
       "2              0.639641                       342.0 2020-03-25 21:44:26+00:00   \n",
       "6              0.639594                       344.0 2020-03-25 21:44:20+00:00   \n",
       "18             0.639510                       340.0 2020-03-25 21:35:28+00:00   \n",
       "3              0.639467                       370.0 2020-03-25 21:45:31+00:00   \n",
       "11             0.639452                       345.0 2020-03-25 21:35:14+00:00   \n",
       "16             0.639449                       345.0 2020-03-25 21:35:13+00:00   \n",
       "19             0.639432                       342.0 2020-03-25 21:35:04+00:00   \n",
       "1              0.639425                       340.0 2020-03-25 21:44:13+00:00   \n",
       "15             0.639418                       340.0 2020-03-25 21:34:56+00:00   \n",
       "12             0.639410                       342.0 2020-03-25 21:35:13+00:00   \n",
       "5              0.639380                       340.0 2020-03-25 21:44:19+00:00   \n",
       "14             0.639362                       342.0 2020-03-25 21:35:13+00:00   \n",
       "17             0.639353                       345.0 2020-03-25 21:35:26+00:00   \n",
       "9              0.639323                       369.0 2020-03-25 21:45:07+00:00   \n",
       "0              0.639162                       343.0 2020-03-25 21:44:28+00:00   \n",
       "10             0.639059                       340.0 2020-03-25 21:35:23+00:00   \n",
       "\n",
       "                               TrainingJobName TrainingJobStatus  \\\n",
       "8   sagemaker-xgboost-200325-2126-012-5bc39bab         Completed   \n",
       "13  sagemaker-xgboost-200325-2126-007-034bbbea         Completed   \n",
       "7   sagemaker-xgboost-200325-2126-013-9886dffc         Completed   \n",
       "4   sagemaker-xgboost-200325-2126-016-630af7bc         Completed   \n",
       "2   sagemaker-xgboost-200325-2126-018-fd740ec1         Completed   \n",
       "6   sagemaker-xgboost-200325-2126-014-342f131a         Completed   \n",
       "18  sagemaker-xgboost-200325-2126-002-c819a209         Completed   \n",
       "3   sagemaker-xgboost-200325-2126-017-6310f5ba         Completed   \n",
       "11  sagemaker-xgboost-200325-2126-009-6163657b         Completed   \n",
       "16  sagemaker-xgboost-200325-2126-004-efcd30b0         Completed   \n",
       "19  sagemaker-xgboost-200325-2126-001-0de5be78         Completed   \n",
       "1   sagemaker-xgboost-200325-2126-019-e55e96dd         Completed   \n",
       "15  sagemaker-xgboost-200325-2126-005-f6a55d4a         Completed   \n",
       "12  sagemaker-xgboost-200325-2126-008-28e7c34d         Completed   \n",
       "5   sagemaker-xgboost-200325-2126-015-c7817f1b         Completed   \n",
       "14  sagemaker-xgboost-200325-2126-006-0d7e4a41         Completed   \n",
       "17  sagemaker-xgboost-200325-2126-003-832e67a1         Completed   \n",
       "9   sagemaker-xgboost-200325-2126-011-2b4628ea         Completed   \n",
       "0   sagemaker-xgboost-200325-2126-020-4672e1d7         Completed   \n",
       "10  sagemaker-xgboost-200325-2126-010-3d25f724         Completed   \n",
       "\n",
       "           TrainingStartTime     alpha    lambda  \n",
       "8  2020-03-25 21:38:47+00:00  0.134073  5.277374  \n",
       "13 2020-03-25 21:29:38+00:00  5.491171  0.166140  \n",
       "7  2020-03-25 21:38:34+00:00  1.037658  2.096381  \n",
       "4  2020-03-25 21:38:32+00:00  2.335517  5.126630  \n",
       "2  2020-03-25 21:38:44+00:00  0.018886  2.176522  \n",
       "6  2020-03-25 21:38:36+00:00  0.015670  5.001017  \n",
       "18 2020-03-25 21:29:48+00:00  0.804632  0.440205  \n",
       "3  2020-03-25 21:39:21+00:00  0.251007  0.030732  \n",
       "11 2020-03-25 21:29:29+00:00  0.013693  1.334477  \n",
       "16 2020-03-25 21:29:28+00:00  0.010539  0.422354  \n",
       "19 2020-03-25 21:29:22+00:00  1.379756  0.043770  \n",
       "1  2020-03-25 21:38:33+00:00  0.072041  0.103607  \n",
       "15 2020-03-25 21:29:16+00:00  0.207415  0.117178  \n",
       "12 2020-03-25 21:29:31+00:00  0.012672  0.027989  \n",
       "5  2020-03-25 21:38:39+00:00  0.696019  0.126713  \n",
       "14 2020-03-25 21:29:31+00:00  0.012360  0.064971  \n",
       "17 2020-03-25 21:29:41+00:00  0.283379  0.890543  \n",
       "9  2020-03-25 21:38:58+00:00  1.289337  0.676605  \n",
       "0  2020-03-25 21:38:45+00:00  0.630409  0.099984  \n",
       "10 2020-03-25 21:29:43+00:00  1.219301  0.031403  "
      ]
     },
     "execution_count": 41,
     "metadata": {},
     "output_type": "execute_result"
    }
   ],
   "source": [
    "df_log.sort_values('FinalObjectiveValue',ascending=False)"
   ]
  },
  {
   "cell_type": "code",
   "execution_count": 44,
   "metadata": {},
   "outputs": [
    {
     "name": "stdout",
     "output_type": "stream",
     "text": [
      "2020-03-25 21:44:37 Starting - Preparing the instances for training\n",
      "2020-03-25 21:44:37 Downloading - Downloading input data\n",
      "2020-03-25 21:44:37 Training - Training image download completed. Training in progress.\n",
      "2020-03-25 21:44:37 Uploading - Uploading generated training model\n",
      "2020-03-25 21:44:37 Completed - Training job completed\u001b[34mINFO:sagemaker-containers:Imported framework sagemaker_xgboost_container.training\u001b[0m\n",
      "\u001b[34mINFO:sagemaker-containers:Failed to parse hyperparameter _tuning_objective_metric value validation:f1 to Json.\u001b[0m\n",
      "\u001b[34mReturning the value itself\u001b[0m\n",
      "\u001b[34mINFO:sagemaker-containers:Failed to parse hyperparameter objective value multi:softmax to Json.\u001b[0m\n",
      "\u001b[34mReturning the value itself\u001b[0m\n",
      "\u001b[34mINFO:sagemaker-containers:No GPUs detected (normal if no gpus installed)\u001b[0m\n",
      "\u001b[34mINFO:sagemaker_xgboost_container.training:Running XGBoost Sagemaker in algorithm mode\u001b[0m\n",
      "\u001b[34mINFO:root:Determined delimiter of CSV input is ','\u001b[0m\n",
      "\u001b[34mINFO:root:Determined delimiter of CSV input is ','\u001b[0m\n",
      "\u001b[34mINFO:root:Determined delimiter of CSV input is ','\u001b[0m\n",
      "\u001b[34m[21:39:30] 4000001x5 matrix with 20000005 entries loaded from /opt/ml/input/data/train?format=csv&label_column=0&delimiter=,\u001b[0m\n",
      "\u001b[34mINFO:root:Determined delimiter of CSV input is ','\u001b[0m\n",
      "\u001b[34m[21:39:30] 1000001x5 matrix with 5000005 entries loaded from /opt/ml/input/data/validation?format=csv&label_column=0&delimiter=,\u001b[0m\n",
      "\u001b[34mINFO:root:Single node training.\u001b[0m\n",
      "\u001b[34mINFO:root:Setting up HPO optimized metric to be : f1\u001b[0m\n",
      "\u001b[34mINFO:root:Train matrix has 4000001 rows\u001b[0m\n",
      "\u001b[34mINFO:root:Validation matrix has 1000001 rows\u001b[0m\n",
      "\u001b[34m[0]#011train-merror:0.284239#011validation-merror:0.284937#011train-f1:0.621672#011validation-f1:0.619558\u001b[0m\n",
      "\u001b[34m[1]#011train-merror:0.27584#011validation-merror:0.276467#011train-f1:0.628148#011validation-f1:0.625708\u001b[0m\n",
      "\u001b[34m[2]#011train-merror:0.272169#011validation-merror:0.272783#011train-f1:0.630744#011validation-f1:0.628388\u001b[0m\n",
      "\u001b[34m[3]#011train-merror:0.270919#011validation-merror:0.271553#011train-f1:0.633172#011validation-f1:0.630769\u001b[0m\n",
      "\u001b[34m[4]#011train-merror:0.268574#011validation-merror:0.269216#011train-f1:0.635299#011validation-f1:0.632957\u001b[0m\n",
      "\u001b[34m[5]#011train-merror:0.267344#011validation-merror:0.267943#011train-f1:0.636382#011validation-f1:0.634431\u001b[0m\n",
      "\u001b[34m[6]#011train-merror:0.266022#011validation-merror:0.26649#011train-f1:0.637976#011validation-f1:0.635983\u001b[0m\n",
      "\u001b[34m[7]#011train-merror:0.264725#011validation-merror:0.265237#011train-f1:0.639165#011validation-f1:0.637351\u001b[0m\n",
      "\u001b[34m[8]#011train-merror:0.264179#011validation-merror:0.264699#011train-f1:0.639796#011validation-f1:0.637889\u001b[0m\n",
      "\u001b[34m[9]#011train-merror:0.263504#011validation-merror:0.264042#011train-f1:0.640658#011validation-f1:0.638659\u001b[0m\n",
      "\u001b[34m[10]#011train-merror:0.2624#011validation-merror:0.262961#011train-f1:0.64178#011validation-f1:0.639808\u001b[0m\n",
      "Training seconds: 350\n",
      "Billable seconds: 350\n"
     ]
    },
    {
     "name": "stderr",
     "output_type": "stream",
     "text": [
      "WARNING:sagemaker:Using already existing model: sagemaker-xgboost-200325-2126-012-5bc39bab\n"
     ]
    },
    {
     "name": "stdout",
     "output_type": "stream",
     "text": [
      "-------------!"
     ]
    }
   ],
   "source": [
    "predictor=tuner_log.deploy(initial_instance_count =1, instance_type = \"ml.m4.xlarge\")"
   ]
  },
  {
   "cell_type": "code",
   "execution_count": 52,
   "metadata": {},
   "outputs": [],
   "source": [
    "#now we need to pass the x_data to the model. hence set the path\n",
    "s3_input_train = sagemaker.s3_input(s3_data = 's3://{}/{}/X_train'.format('sunithadatasets','data'),content_type ='csv')\n",
    "xgb.fit({'train' : s3_input_train})\n",
    "#now, after training the model, lets deploy\n",
    "predictor = xgb.deploy(initial_instance_count =1, instance_type = \"ml.m4.xlarge\")"
   ]
  },
  {
   "cell_type": "code",
   "execution_count": 45,
   "metadata": {},
   "outputs": [],
   "source": [
    "import numpy as np\n",
    "from sagemaker.predictor import csv_serializer"
   ]
  },
  {
   "cell_type": "code",
   "execution_count": 46,
   "metadata": {},
   "outputs": [],
   "source": [
    "predictor.content_type = 'text/csv'\n",
    "predictor.serializer = csv_serializer\n",
    "predictor.deserializer = None\n",
    "\n",
    "def predict(data, rows=500):\n",
    "    split_array = np.array_split(data, int(data.shape[0] / float(rows) + 1))\n",
    "    predictions = ''\n",
    "    for array in split_array:\n",
    "        predictions = ','.join([predictions, predictor.predict(array).decode('utf-8')])\n",
    "\n",
    "    return np.fromstring(predictions[1:], sep=',')"
   ]
  },
  {
   "cell_type": "code",
   "execution_count": 47,
   "metadata": {},
   "outputs": [],
   "source": [
    "y_pred = predict(test_values.to_numpy())"
   ]
  },
  {
   "cell_type": "code",
   "execution_count": 50,
   "metadata": {},
   "outputs": [
    {
     "ename": "AttributeError",
     "evalue": "'numpy.float64' object has no attribute 'value_counts'",
     "output_type": "error",
     "traceback": [
      "\u001b[0;31m---------------------------------------------------------------------------\u001b[0m",
      "\u001b[0;31mAttributeError\u001b[0m                            Traceback (most recent call last)",
      "\u001b[0;32m<ipython-input-50-7440448233e0>\u001b[0m in \u001b[0;36m<module>\u001b[0;34m()\u001b[0m\n\u001b[0;32m----> 1\u001b[0;31m \u001b[0my_pred\u001b[0m\u001b[0;34m[\u001b[0m\u001b[0;36m0\u001b[0m\u001b[0;34m]\u001b[0m\u001b[0;34m.\u001b[0m\u001b[0mvalue_counts\u001b[0m\u001b[0;34m(\u001b[0m\u001b[0;34m)\u001b[0m\u001b[0;34m\u001b[0m\u001b[0m\n\u001b[0m",
      "\u001b[0;31mAttributeError\u001b[0m: 'numpy.float64' object has no attribute 'value_counts'"
     ]
    }
   ],
   "source": [
    "y_pred[0].value_counts()"
   ]
  },
  {
   "cell_type": "code",
   "execution_count": 51,
   "metadata": {},
   "outputs": [],
   "source": [
    "#convert array into a dataframe\n",
    "df = pd.DataFrame(y_pred)"
   ]
  },
  {
   "cell_type": "code",
   "execution_count": 55,
   "metadata": {},
   "outputs": [
    {
     "data": {
      "text/plain": [
       "0.0     731399\n",
       "1.0     615463\n",
       "3.0     202722\n",
       "2.0     147055\n",
       "4.0      79686\n",
       "7.0      59558\n",
       "5.0      45341\n",
       "8.0      43300\n",
       "6.0      42850\n",
       "9.0      26611\n",
       "10.0      6015\n",
       "Name: 0, dtype: int64"
      ]
     },
     "execution_count": 55,
     "metadata": {},
     "output_type": "execute_result"
    }
   ],
   "source": [
    "df[0].value_counts()"
   ]
  },
  {
   "cell_type": "code",
   "execution_count": 57,
   "metadata": {},
   "outputs": [],
   "source": [
    "submission9 =pd.DataFrame()\n",
    "submission9['time'] = test_data.time\n",
    "submission9['open_channels'] = y_pred.astype(int)\n",
    "\n",
    "submission9.time = submission9.time.apply(lambda x: '{:.4f}'.format(x))\n",
    "#submission6.to_csv('data/XGBoost_submission5.csv',index=False)"
   ]
  },
  {
   "cell_type": "code",
   "execution_count": 58,
   "metadata": {},
   "outputs": [
    {
     "data": {
      "text/plain": [
       "array([ 0,  1,  2,  3,  4,  5,  6,  7,  8, 10,  9])"
      ]
     },
     "execution_count": 58,
     "metadata": {},
     "output_type": "execute_result"
    }
   ],
   "source": [
    "submission9.open_channels.unique()"
   ]
  },
  {
   "cell_type": "code",
   "execution_count": 59,
   "metadata": {},
   "outputs": [
    {
     "data": {
      "text/plain": [
       "{'ResponseMetadata': {'RequestId': 'BA5128CB2547DDC3',\n",
       "  'HostId': '61eZthbyxRvvaizhj7to6Ihdy21XRB4QM4/Jg5xVmBhx4bdMzkZhRT61fyUVIGFGHD/XuYi5C7I=',\n",
       "  'HTTPStatusCode': 200,\n",
       "  'HTTPHeaders': {'x-amz-id-2': '61eZthbyxRvvaizhj7to6Ihdy21XRB4QM4/Jg5xVmBhx4bdMzkZhRT61fyUVIGFGHD/XuYi5C7I=',\n",
       "   'x-amz-request-id': 'BA5128CB2547DDC3',\n",
       "   'date': 'Wed, 25 Mar 2020 22:24:38 GMT',\n",
       "   'etag': '\"b19c6743c03911ef00b7e957986b2398\"',\n",
       "   'content-length': '0',\n",
       "   'server': 'AmazonS3'},\n",
       "  'RetryAttempts': 0},\n",
       " 'ETag': '\"b19c6743c03911ef00b7e957986b2398\"'}"
      ]
     },
     "execution_count": 59,
     "metadata": {},
     "output_type": "execute_result"
    }
   ],
   "source": [
    "# Save final kagggle file to csv\n",
    "bucket ='sunithadatasets'\n",
    "csv_buffer = StringIO()\n",
    "submission9.to_csv(csv_buffer,index=False)\n",
    "s3_resource = boto3.resource('s3')\n",
    "s3_resource.Object(bucket,'data/XGBoost_submission9.csv').put(Body=csv_buffer.getvalue())"
   ]
  },
  {
   "cell_type": "code",
   "execution_count": null,
   "metadata": {},
   "outputs": [],
   "source": []
  }
 ],
 "metadata": {
  "kernelspec": {
   "display_name": "conda_python3",
   "language": "python",
   "name": "conda_python3"
  },
  "language_info": {
   "codemirror_mode": {
    "name": "ipython",
    "version": 3
   },
   "file_extension": ".py",
   "mimetype": "text/x-python",
   "name": "python",
   "nbconvert_exporter": "python",
   "pygments_lexer": "ipython3",
   "version": "3.6.5"
  }
 },
 "nbformat": 4,
 "nbformat_minor": 4
}
