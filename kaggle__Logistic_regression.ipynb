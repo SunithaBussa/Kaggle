{
 "cells": [
  {
   "cell_type": "markdown",
   "metadata": {},
   "source": [
    "#Applying logistic regression on Kaggle data"
   ]
  },
  {
   "cell_type": "code",
   "execution_count": 66,
   "metadata": {},
   "outputs": [],
   "source": [
    "import pandas as pd\n",
    "from sklearn.linear_model import LogisticRegression\n",
    "from sklearn.metrics import classification_report,confusion_matrix\n",
    "from sklearn.model_selection import train_test_split"
   ]
  },
  {
   "cell_type": "code",
   "execution_count": 67,
   "metadata": {},
   "outputs": [],
   "source": [
    "ion_data = pd.read_csv('data/train.csv')\n",
    "test_data = pd.read_csv('data/test.csv')"
   ]
  },
  {
   "cell_type": "code",
   "execution_count": 68,
   "metadata": {},
   "outputs": [],
   "source": [
    "submission = pd.read_csv('data/sample_submission.csv')"
   ]
  },
  {
   "cell_type": "code",
   "execution_count": 69,
   "metadata": {},
   "outputs": [
    {
     "data": {
      "text/html": [
       "<div>\n",
       "<style scoped>\n",
       "    .dataframe tbody tr th:only-of-type {\n",
       "        vertical-align: middle;\n",
       "    }\n",
       "\n",
       "    .dataframe tbody tr th {\n",
       "        vertical-align: top;\n",
       "    }\n",
       "\n",
       "    .dataframe thead th {\n",
       "        text-align: right;\n",
       "    }\n",
       "</style>\n",
       "<table border=\"1\" class=\"dataframe\">\n",
       "  <thead>\n",
       "    <tr style=\"text-align: right;\">\n",
       "      <th></th>\n",
       "      <th>time</th>\n",
       "      <th>open_channels</th>\n",
       "    </tr>\n",
       "  </thead>\n",
       "  <tbody>\n",
       "    <tr>\n",
       "      <th>0</th>\n",
       "      <td>500.0001</td>\n",
       "      <td>0</td>\n",
       "    </tr>\n",
       "    <tr>\n",
       "      <th>1</th>\n",
       "      <td>500.0002</td>\n",
       "      <td>0</td>\n",
       "    </tr>\n",
       "    <tr>\n",
       "      <th>2</th>\n",
       "      <td>500.0003</td>\n",
       "      <td>0</td>\n",
       "    </tr>\n",
       "    <tr>\n",
       "      <th>3</th>\n",
       "      <td>500.0004</td>\n",
       "      <td>0</td>\n",
       "    </tr>\n",
       "    <tr>\n",
       "      <th>4</th>\n",
       "      <td>500.0005</td>\n",
       "      <td>0</td>\n",
       "    </tr>\n",
       "  </tbody>\n",
       "</table>\n",
       "</div>"
      ],
      "text/plain": [
       "       time  open_channels\n",
       "0  500.0001              0\n",
       "1  500.0002              0\n",
       "2  500.0003              0\n",
       "3  500.0004              0\n",
       "4  500.0005              0"
      ]
     },
     "execution_count": 69,
     "metadata": {},
     "output_type": "execute_result"
    }
   ],
   "source": [
    "submission.head()"
   ]
  },
  {
   "cell_type": "code",
   "execution_count": 70,
   "metadata": {},
   "outputs": [
    {
     "data": {
      "text/html": [
       "<div>\n",
       "<style scoped>\n",
       "    .dataframe tbody tr th:only-of-type {\n",
       "        vertical-align: middle;\n",
       "    }\n",
       "\n",
       "    .dataframe tbody tr th {\n",
       "        vertical-align: top;\n",
       "    }\n",
       "\n",
       "    .dataframe thead th {\n",
       "        text-align: right;\n",
       "    }\n",
       "</style>\n",
       "<table border=\"1\" class=\"dataframe\">\n",
       "  <thead>\n",
       "    <tr style=\"text-align: right;\">\n",
       "      <th></th>\n",
       "      <th>time</th>\n",
       "      <th>signal</th>\n",
       "      <th>open_channels</th>\n",
       "    </tr>\n",
       "  </thead>\n",
       "  <tbody>\n",
       "    <tr>\n",
       "      <th>0</th>\n",
       "      <td>0.0001</td>\n",
       "      <td>-2.7600</td>\n",
       "      <td>0</td>\n",
       "    </tr>\n",
       "    <tr>\n",
       "      <th>1</th>\n",
       "      <td>0.0002</td>\n",
       "      <td>-2.8557</td>\n",
       "      <td>0</td>\n",
       "    </tr>\n",
       "    <tr>\n",
       "      <th>2</th>\n",
       "      <td>0.0003</td>\n",
       "      <td>-2.4074</td>\n",
       "      <td>0</td>\n",
       "    </tr>\n",
       "    <tr>\n",
       "      <th>3</th>\n",
       "      <td>0.0004</td>\n",
       "      <td>-3.1404</td>\n",
       "      <td>0</td>\n",
       "    </tr>\n",
       "    <tr>\n",
       "      <th>4</th>\n",
       "      <td>0.0005</td>\n",
       "      <td>-3.1525</td>\n",
       "      <td>0</td>\n",
       "    </tr>\n",
       "  </tbody>\n",
       "</table>\n",
       "</div>"
      ],
      "text/plain": [
       "     time  signal  open_channels\n",
       "0  0.0001 -2.7600              0\n",
       "1  0.0002 -2.8557              0\n",
       "2  0.0003 -2.4074              0\n",
       "3  0.0004 -3.1404              0\n",
       "4  0.0005 -3.1525              0"
      ]
     },
     "execution_count": 70,
     "metadata": {},
     "output_type": "execute_result"
    }
   ],
   "source": [
    "ion_data.head()"
   ]
  },
  {
   "cell_type": "code",
   "execution_count": 71,
   "metadata": {},
   "outputs": [
    {
     "data": {
      "text/html": [
       "<div>\n",
       "<style scoped>\n",
       "    .dataframe tbody tr th:only-of-type {\n",
       "        vertical-align: middle;\n",
       "    }\n",
       "\n",
       "    .dataframe tbody tr th {\n",
       "        vertical-align: top;\n",
       "    }\n",
       "\n",
       "    .dataframe thead th {\n",
       "        text-align: right;\n",
       "    }\n",
       "</style>\n",
       "<table border=\"1\" class=\"dataframe\">\n",
       "  <thead>\n",
       "    <tr style=\"text-align: right;\">\n",
       "      <th></th>\n",
       "      <th>time</th>\n",
       "      <th>signal</th>\n",
       "    </tr>\n",
       "  </thead>\n",
       "  <tbody>\n",
       "    <tr>\n",
       "      <th>0</th>\n",
       "      <td>500.0001</td>\n",
       "      <td>-2.6498</td>\n",
       "    </tr>\n",
       "    <tr>\n",
       "      <th>1</th>\n",
       "      <td>500.0002</td>\n",
       "      <td>-2.8494</td>\n",
       "    </tr>\n",
       "    <tr>\n",
       "      <th>2</th>\n",
       "      <td>500.0003</td>\n",
       "      <td>-2.8600</td>\n",
       "    </tr>\n",
       "    <tr>\n",
       "      <th>3</th>\n",
       "      <td>500.0004</td>\n",
       "      <td>-2.4350</td>\n",
       "    </tr>\n",
       "    <tr>\n",
       "      <th>4</th>\n",
       "      <td>500.0005</td>\n",
       "      <td>-2.6155</td>\n",
       "    </tr>\n",
       "  </tbody>\n",
       "</table>\n",
       "</div>"
      ],
      "text/plain": [
       "       time  signal\n",
       "0  500.0001 -2.6498\n",
       "1  500.0002 -2.8494\n",
       "2  500.0003 -2.8600\n",
       "3  500.0004 -2.4350\n",
       "4  500.0005 -2.6155"
      ]
     },
     "execution_count": 71,
     "metadata": {},
     "output_type": "execute_result"
    }
   ],
   "source": [
    "test_data.head()"
   ]
  },
  {
   "cell_type": "code",
   "execution_count": 72,
   "metadata": {},
   "outputs": [],
   "source": [
    "#features for training data\n",
    "\n",
    "#create a batch \n",
    "ion_data['batch'] = 0\n",
    "for i in range(0,10):\n",
    "    ion_data.iloc[i*500000:500000*(i+1),3] = i\n",
    "    \n",
    "#rolling mean\n",
    "ion_data['simple_moving_avg_50'] = ion_data['signal'].rolling(window=50).mean() \n",
    "\n",
    "#rolling standard deviation of signal\n",
    "ion_data['rolling_std_50'] = ion_data['signal'].rolling(window=50).std()\n",
    "\n",
    "#create new column moving avg in each batch\n",
    "ion_data['simple_moving_avg_50_batch'] = ion_data.groupby(['batch']).signal.rolling(window=50).mean().values\n",
    "\n",
    "#create new column moving standard deviation in each batch\n",
    "ion_data['moving_std_50_batch'] = ion_data.groupby(['batch']).signal.rolling(window=50).std().values\n",
    "\n",
    "#replace nan's with zero's in dataframe\n",
    "ion_data = ion_data.fillna(0)\n",
    "\n",
    "#save the data with features\n",
    "ion_data.to_csv('data/ion_data.csv',index=False)"
   ]
  },
  {
   "cell_type": "code",
   "execution_count": 73,
   "metadata": {},
   "outputs": [],
   "source": [
    "#features for test data\n",
    "\n",
    "#create a batch \n",
    "test_data['batch'] = 0\n",
    "for i in range(0,10):\n",
    "    test_data.iloc[i*500000:500000*(i+1),2] = i\n",
    "    \n",
    "#rolling mean\n",
    "test_data['simple_moving_avg_50'] = test_data['signal'].rolling(window=50).mean() \n",
    "\n",
    "#rolling standard deviation of signal\n",
    "test_data['rolling_std_50'] = test_data['signal'].rolling(window=50).std()\n",
    "\n",
    "#create new column moving avg in each batch\n",
    "test_data['simple_moving_avg_50_batch'] = test_data.groupby(['batch']).signal.rolling(window=50).mean().values\n",
    "\n",
    "#create new column moving standard deviation in each batch\n",
    "test_data['moving_std_50_batch'] = test_data.groupby(['batch']).signal.rolling(window=50).std().values\n",
    "\n",
    "#replace nan's with zero's in dataframe\n",
    "test_data = test_data.fillna(0)\n",
    "\n",
    "#test_Data with features\n",
    "test_data.to_csv('data/test_data_with_features.csv',index=False)"
   ]
  },
  {
   "cell_type": "code",
   "execution_count": 74,
   "metadata": {},
   "outputs": [
    {
     "data": {
      "text/html": [
       "<div>\n",
       "<style scoped>\n",
       "    .dataframe tbody tr th:only-of-type {\n",
       "        vertical-align: middle;\n",
       "    }\n",
       "\n",
       "    .dataframe tbody tr th {\n",
       "        vertical-align: top;\n",
       "    }\n",
       "\n",
       "    .dataframe thead th {\n",
       "        text-align: right;\n",
       "    }\n",
       "</style>\n",
       "<table border=\"1\" class=\"dataframe\">\n",
       "  <thead>\n",
       "    <tr style=\"text-align: right;\">\n",
       "      <th></th>\n",
       "      <th>time</th>\n",
       "      <th>signal</th>\n",
       "      <th>batch</th>\n",
       "      <th>simple_moving_avg_50</th>\n",
       "      <th>rolling_std_50</th>\n",
       "      <th>simple_moving_avg_50_batch</th>\n",
       "      <th>moving_std_50_batch</th>\n",
       "    </tr>\n",
       "  </thead>\n",
       "  <tbody>\n",
       "    <tr>\n",
       "      <th>1999995</th>\n",
       "      <td>699.9996</td>\n",
       "      <td>-2.9092</td>\n",
       "      <td>3</td>\n",
       "      <td>-2.766912</td>\n",
       "      <td>0.227497</td>\n",
       "      <td>-2.766912</td>\n",
       "      <td>0.227497</td>\n",
       "    </tr>\n",
       "    <tr>\n",
       "      <th>1999996</th>\n",
       "      <td>699.9997</td>\n",
       "      <td>-2.7422</td>\n",
       "      <td>3</td>\n",
       "      <td>-2.772244</td>\n",
       "      <td>0.223622</td>\n",
       "      <td>-2.772244</td>\n",
       "      <td>0.223622</td>\n",
       "    </tr>\n",
       "    <tr>\n",
       "      <th>1999997</th>\n",
       "      <td>699.9998</td>\n",
       "      <td>-2.8285</td>\n",
       "      <td>3</td>\n",
       "      <td>-2.780104</td>\n",
       "      <td>0.218389</td>\n",
       "      <td>-2.780104</td>\n",
       "      <td>0.218389</td>\n",
       "    </tr>\n",
       "    <tr>\n",
       "      <th>1999998</th>\n",
       "      <td>699.9999</td>\n",
       "      <td>-2.9092</td>\n",
       "      <td>3</td>\n",
       "      <td>-2.787100</td>\n",
       "      <td>0.216772</td>\n",
       "      <td>-2.787100</td>\n",
       "      <td>0.216772</td>\n",
       "    </tr>\n",
       "    <tr>\n",
       "      <th>1999999</th>\n",
       "      <td>700.0000</td>\n",
       "      <td>-2.7422</td>\n",
       "      <td>3</td>\n",
       "      <td>-2.788486</td>\n",
       "      <td>0.216248</td>\n",
       "      <td>-2.788486</td>\n",
       "      <td>0.216248</td>\n",
       "    </tr>\n",
       "  </tbody>\n",
       "</table>\n",
       "</div>"
      ],
      "text/plain": [
       "             time  signal  batch  simple_moving_avg_50  rolling_std_50  \\\n",
       "1999995  699.9996 -2.9092      3             -2.766912        0.227497   \n",
       "1999996  699.9997 -2.7422      3             -2.772244        0.223622   \n",
       "1999997  699.9998 -2.8285      3             -2.780104        0.218389   \n",
       "1999998  699.9999 -2.9092      3             -2.787100        0.216772   \n",
       "1999999  700.0000 -2.7422      3             -2.788486        0.216248   \n",
       "\n",
       "         simple_moving_avg_50_batch  moving_std_50_batch  \n",
       "1999995                   -2.766912             0.227497  \n",
       "1999996                   -2.772244             0.223622  \n",
       "1999997                   -2.780104             0.218389  \n",
       "1999998                   -2.787100             0.216772  \n",
       "1999999                   -2.788486             0.216248  "
      ]
     },
     "execution_count": 74,
     "metadata": {},
     "output_type": "execute_result"
    }
   ],
   "source": [
    " test_data.tail()"
   ]
  },
  {
   "cell_type": "markdown",
   "metadata": {},
   "source": [
    "Applying Logistic Regression"
   ]
  },
  {
   "cell_type": "code",
   "execution_count": 75,
   "metadata": {},
   "outputs": [
    {
     "name": "stdout",
     "output_type": "stream",
     "text": [
      "[[323220  38719   3196   6185    164      0    115    339     10      0\n",
      "       0]\n",
      " [133832 118250  15105  24141   1066      5    836   2562    233      0\n",
      "       0]\n",
      " [   220  67304  28700  54782   5546      0   1621   6272   1615      0\n",
      "       0]\n",
      " [     8  64596  28234  79928  15273      0   1291   7790   3641      0\n",
      "       0]\n",
      " [     0   7555  11379  68317  19960      1    893   7383   5471      0\n",
      "       0]\n",
      " [     0   3518   4966  39426  11771     20   1459  14146   7985      0\n",
      "       0]\n",
      " [     0      3   2334  12963   3446      0   1640  22678  13327      0\n",
      "       0]\n",
      " [     0      3   1325  18385   7427      0   1559  28928  21729      0\n",
      "       0]\n",
      " [     0      2    419  14510   9482      0   1066  25553  22559      0\n",
      "       0]\n",
      " [     0      0     51   5554   6985      0    490  14272  13560      3\n",
      "       1]\n",
      " [     0      0      2    745   2242      3    107   3754   3808      5\n",
      "      31]]\n",
      "              precision    recall  f1-score   support\n",
      "\n",
      "           0       0.71      0.87      0.78    371948\n",
      "           1       0.39      0.40      0.40    296030\n",
      "           2       0.30      0.17      0.22    166060\n",
      "           3       0.25      0.40      0.30    200761\n",
      "           4       0.24      0.17      0.20    120959\n",
      "           5       0.69      0.00      0.00     83291\n",
      "           6       0.15      0.03      0.05     56391\n",
      "           7       0.22      0.36      0.27     79356\n",
      "           8       0.24      0.31      0.27     73591\n",
      "           9       0.38      0.00      0.00     40916\n",
      "          10       0.97      0.00      0.01     10697\n",
      "\n",
      "    accuracy                           0.42   1500000\n",
      "   macro avg       0.41      0.25      0.23   1500000\n",
      "weighted avg       0.42      0.42      0.38   1500000\n",
      "\n"
     ]
    }
   ],
   "source": [
    " # Train multinomial logistic regression\n",
    "  #  mul_lr = linear_model.LogisticRegression(multi_class='multinomial', solver='newton-cg').fit(train_x, train_y)\n",
    "\n",
    "#all features in x and dependent variable in y\n",
    "X =  ion_data.drop(['time','signal','open_channels','batch'],axis=1)\n",
    "y = ion_data['open_channels']\n",
    "\n",
    "#Create training and test test\n",
    "X_train,X_test,y_train,y_test = train_test_split(X,y,test_size = 0.3, random_state = 42)\n",
    "\n",
    "#instantiate the model\n",
    "logreg = LogisticRegression(multi_class='multinomial', solver='newton-cg')\n",
    "\n",
    "#Train the model\n",
    "\n",
    "logreg.fit(X_train,y_train)\n",
    "\n",
    "#predict using the test data which you split \n",
    "y_pred = logreg.predict(X_test)\n",
    "\n",
    "#see the confusion matrix\n",
    "print(confusion_matrix(y_test,y_pred))\n",
    "\n",
    "#see the classification report\n",
    "print(classification_report(y_test,y_pred))"
   ]
  },
  {
   "cell_type": "code",
   "execution_count": 76,
   "metadata": {},
   "outputs": [],
   "source": [
    "#lets apply the model to predict the values for kaggles test data\n",
    "kaggle_test_data=test_data.iloc[:,3:]\n",
    "\n",
    "#predict for kaggle data\n",
    "kaggle_y_pred = logreg.predict(kaggle_test_data)"
   ]
  },
  {
   "cell_type": "code",
   "execution_count": 77,
   "metadata": {},
   "outputs": [],
   "source": [
    "kaggle_y_pred=pd.DataFrame(kaggle_y_pred )"
   ]
  },
  {
   "cell_type": "code",
   "execution_count": 78,
   "metadata": {},
   "outputs": [
    {
     "data": {
      "text/plain": [
       "array([ 0,  1,  2,  3,  6,  7,  5, 10,  4,  8])"
      ]
     },
     "execution_count": 78,
     "metadata": {},
     "output_type": "execute_result"
    }
   ],
   "source": [
    "kaggle_y_pred[0].unique()"
   ]
  },
  {
   "cell_type": "code",
   "execution_count": 79,
   "metadata": {},
   "outputs": [],
   "source": [
    "submission3 =pd.DataFrame()\n",
    "submission3['time'] = test_data.time\n",
    "submission3['open_channels'] = kaggle_y_pred.astype(int)\n",
    "\n",
    "submission3.time = submission3.time.apply(lambda x: '{:.4f}'.format(x))\n",
    "submission3.to_csv('data/logistic_submission3.csv',index=False)"
   ]
  },
  {
   "cell_type": "code",
   "execution_count": 80,
   "metadata": {},
   "outputs": [
    {
     "data": {
      "text/html": [
       "<div>\n",
       "<style scoped>\n",
       "    .dataframe tbody tr th:only-of-type {\n",
       "        vertical-align: middle;\n",
       "    }\n",
       "\n",
       "    .dataframe tbody tr th {\n",
       "        vertical-align: top;\n",
       "    }\n",
       "\n",
       "    .dataframe thead th {\n",
       "        text-align: right;\n",
       "    }\n",
       "</style>\n",
       "<table border=\"1\" class=\"dataframe\">\n",
       "  <thead>\n",
       "    <tr style=\"text-align: right;\">\n",
       "      <th></th>\n",
       "      <th>time</th>\n",
       "      <th>open_channels</th>\n",
       "    </tr>\n",
       "  </thead>\n",
       "  <tbody>\n",
       "    <tr>\n",
       "      <th>0</th>\n",
       "      <td>500.0001</td>\n",
       "      <td>0</td>\n",
       "    </tr>\n",
       "    <tr>\n",
       "      <th>1</th>\n",
       "      <td>500.0002</td>\n",
       "      <td>0</td>\n",
       "    </tr>\n",
       "    <tr>\n",
       "      <th>2</th>\n",
       "      <td>500.0003</td>\n",
       "      <td>0</td>\n",
       "    </tr>\n",
       "    <tr>\n",
       "      <th>3</th>\n",
       "      <td>500.0004</td>\n",
       "      <td>0</td>\n",
       "    </tr>\n",
       "    <tr>\n",
       "      <th>4</th>\n",
       "      <td>500.0005</td>\n",
       "      <td>0</td>\n",
       "    </tr>\n",
       "  </tbody>\n",
       "</table>\n",
       "</div>"
      ],
      "text/plain": [
       "       time  open_channels\n",
       "0  500.0001              0\n",
       "1  500.0002              0\n",
       "2  500.0003              0\n",
       "3  500.0004              0\n",
       "4  500.0005              0"
      ]
     },
     "execution_count": 80,
     "metadata": {},
     "output_type": "execute_result"
    }
   ],
   "source": [
    "submission3.head()"
   ]
  },
  {
   "cell_type": "code",
   "execution_count": null,
   "metadata": {},
   "outputs": [],
   "source": [
    " print \"Multinomial Logistic regression Test Accuracy :: \", metrics.accuracy_score(test_y, mul_lr.predict(test_x))"
   ]
  },
  {
   "cell_type": "code",
   "execution_count": null,
   "metadata": {},
   "outputs": [],
   "source": [
    " "
   ]
  },
  {
   "cell_type": "code",
   "execution_count": null,
   "metadata": {},
   "outputs": [],
   "source": [
    " "
   ]
  }
 ],
 "metadata": {
  "kernelspec": {
   "display_name": "Python 3",
   "language": "python",
   "name": "python3"
  },
  "language_info": {
   "codemirror_mode": {
    "name": "ipython",
    "version": 3
   },
   "file_extension": ".py",
   "mimetype": "text/x-python",
   "name": "python",
   "nbconvert_exporter": "python",
   "pygments_lexer": "ipython3",
   "version": "3.7.3"
  }
 },
 "nbformat": 4,
 "nbformat_minor": 2
}
